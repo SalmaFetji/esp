{
 "cells": [
  {
   "cell_type": "markdown",
   "id": "9bc33845",
   "metadata": {},
   "source": [
    "# Classification des chiffres EMNIST"
   ]
  },
  {
   "cell_type": "code",
   "execution_count": 1,
   "id": "680ac246",
   "metadata": {},
   "outputs": [],
   "source": [
    "#import librairies \n",
    "import pandas as pd\n",
    "import seaborn as sns\n",
    "import matplotlib.pyplot as plt\n",
    "\n",
    "import tensorflow as tf\n",
    "from tensorflow import keras\n",
    "from tensorflow.keras import layers\n",
    "\n",
    "from sklearn.preprocessing import StandardScaler\n",
    "from sklearn.model_selection import train_test_split\n",
    "\n",
    "import pandas as pd\n",
    "import seaborn as sns\n",
    "import matplotlib.pyplot as plt\n",
    "\n",
    "\n",
    "from imblearn.over_sampling import SMOTE\n",
    "\n",
    "\n",
    "import numpy as np\n",
    "\n",
    "from sklearn.metrics import classification_report, confusion_matrix\n",
    "from keras.utils.vis_utils import plot_model\n",
    "\n",
    "from tensorflow.keras import layers,callbacks\n",
    "from tensorflow.keras.callbacks import EarlyStopping\n",
    "\n",
    "from keras.models import Sequential\n",
    "from tensorflow.keras.layers import BatchNormalization\n",
    "from keras.layers import Dropout\n",
    "from keras.layers import Dense, Activation, Flatten\n",
    "\n",
    "from tensorflow.keras.applications.vgg16 import VGG16 \n",
    "\n",
    "from tensorflow import keras\n",
    "from tensorflow.keras import layers\n",
    "\n",
    "import cv2\n",
    "from tensorflow.keras.layers import Conv2D"
   ]
  },
  {
   "cell_type": "code",
   "execution_count": 17,
   "id": "e9ad5609",
   "metadata": {},
   "outputs": [
    {
     "data": {
      "text/html": [
       "<div>\n",
       "<style scoped>\n",
       "    .dataframe tbody tr th:only-of-type {\n",
       "        vertical-align: middle;\n",
       "    }\n",
       "\n",
       "    .dataframe tbody tr th {\n",
       "        vertical-align: top;\n",
       "    }\n",
       "\n",
       "    .dataframe thead th {\n",
       "        text-align: right;\n",
       "    }\n",
       "</style>\n",
       "<table border=\"1\" class=\"dataframe\">\n",
       "  <thead>\n",
       "    <tr style=\"text-align: right;\">\n",
       "      <th></th>\n",
       "      <th>label</th>\n",
       "      <th>pixel0</th>\n",
       "      <th>pixel1</th>\n",
       "      <th>pixel2</th>\n",
       "      <th>pixel3</th>\n",
       "      <th>pixel4</th>\n",
       "      <th>pixel5</th>\n",
       "      <th>pixel6</th>\n",
       "      <th>pixel7</th>\n",
       "      <th>pixel8</th>\n",
       "      <th>...</th>\n",
       "      <th>pixel774</th>\n",
       "      <th>pixel775</th>\n",
       "      <th>pixel776</th>\n",
       "      <th>pixel777</th>\n",
       "      <th>pixel778</th>\n",
       "      <th>pixel779</th>\n",
       "      <th>pixel780</th>\n",
       "      <th>pixel781</th>\n",
       "      <th>pixel782</th>\n",
       "      <th>pixel783</th>\n",
       "    </tr>\n",
       "  </thead>\n",
       "  <tbody>\n",
       "    <tr>\n",
       "      <th>0</th>\n",
       "      <td>1</td>\n",
       "      <td>0</td>\n",
       "      <td>0</td>\n",
       "      <td>0</td>\n",
       "      <td>0</td>\n",
       "      <td>0</td>\n",
       "      <td>0</td>\n",
       "      <td>0</td>\n",
       "      <td>0</td>\n",
       "      <td>0</td>\n",
       "      <td>...</td>\n",
       "      <td>0</td>\n",
       "      <td>0</td>\n",
       "      <td>0</td>\n",
       "      <td>0</td>\n",
       "      <td>0</td>\n",
       "      <td>0</td>\n",
       "      <td>0</td>\n",
       "      <td>0</td>\n",
       "      <td>0</td>\n",
       "      <td>0</td>\n",
       "    </tr>\n",
       "    <tr>\n",
       "      <th>1</th>\n",
       "      <td>0</td>\n",
       "      <td>0</td>\n",
       "      <td>0</td>\n",
       "      <td>0</td>\n",
       "      <td>0</td>\n",
       "      <td>0</td>\n",
       "      <td>0</td>\n",
       "      <td>0</td>\n",
       "      <td>0</td>\n",
       "      <td>0</td>\n",
       "      <td>...</td>\n",
       "      <td>0</td>\n",
       "      <td>0</td>\n",
       "      <td>0</td>\n",
       "      <td>0</td>\n",
       "      <td>0</td>\n",
       "      <td>0</td>\n",
       "      <td>0</td>\n",
       "      <td>0</td>\n",
       "      <td>0</td>\n",
       "      <td>0</td>\n",
       "    </tr>\n",
       "    <tr>\n",
       "      <th>2</th>\n",
       "      <td>1</td>\n",
       "      <td>0</td>\n",
       "      <td>0</td>\n",
       "      <td>0</td>\n",
       "      <td>0</td>\n",
       "      <td>0</td>\n",
       "      <td>0</td>\n",
       "      <td>0</td>\n",
       "      <td>0</td>\n",
       "      <td>0</td>\n",
       "      <td>...</td>\n",
       "      <td>0</td>\n",
       "      <td>0</td>\n",
       "      <td>0</td>\n",
       "      <td>0</td>\n",
       "      <td>0</td>\n",
       "      <td>0</td>\n",
       "      <td>0</td>\n",
       "      <td>0</td>\n",
       "      <td>0</td>\n",
       "      <td>0</td>\n",
       "    </tr>\n",
       "    <tr>\n",
       "      <th>3</th>\n",
       "      <td>4</td>\n",
       "      <td>0</td>\n",
       "      <td>0</td>\n",
       "      <td>0</td>\n",
       "      <td>0</td>\n",
       "      <td>0</td>\n",
       "      <td>0</td>\n",
       "      <td>0</td>\n",
       "      <td>0</td>\n",
       "      <td>0</td>\n",
       "      <td>...</td>\n",
       "      <td>0</td>\n",
       "      <td>0</td>\n",
       "      <td>0</td>\n",
       "      <td>0</td>\n",
       "      <td>0</td>\n",
       "      <td>0</td>\n",
       "      <td>0</td>\n",
       "      <td>0</td>\n",
       "      <td>0</td>\n",
       "      <td>0</td>\n",
       "    </tr>\n",
       "    <tr>\n",
       "      <th>4</th>\n",
       "      <td>0</td>\n",
       "      <td>0</td>\n",
       "      <td>0</td>\n",
       "      <td>0</td>\n",
       "      <td>0</td>\n",
       "      <td>0</td>\n",
       "      <td>0</td>\n",
       "      <td>0</td>\n",
       "      <td>0</td>\n",
       "      <td>0</td>\n",
       "      <td>...</td>\n",
       "      <td>0</td>\n",
       "      <td>0</td>\n",
       "      <td>0</td>\n",
       "      <td>0</td>\n",
       "      <td>0</td>\n",
       "      <td>0</td>\n",
       "      <td>0</td>\n",
       "      <td>0</td>\n",
       "      <td>0</td>\n",
       "      <td>0</td>\n",
       "    </tr>\n",
       "    <tr>\n",
       "      <th>...</th>\n",
       "      <td>...</td>\n",
       "      <td>...</td>\n",
       "      <td>...</td>\n",
       "      <td>...</td>\n",
       "      <td>...</td>\n",
       "      <td>...</td>\n",
       "      <td>...</td>\n",
       "      <td>...</td>\n",
       "      <td>...</td>\n",
       "      <td>...</td>\n",
       "      <td>...</td>\n",
       "      <td>...</td>\n",
       "      <td>...</td>\n",
       "      <td>...</td>\n",
       "      <td>...</td>\n",
       "      <td>...</td>\n",
       "      <td>...</td>\n",
       "      <td>...</td>\n",
       "      <td>...</td>\n",
       "      <td>...</td>\n",
       "      <td>...</td>\n",
       "    </tr>\n",
       "    <tr>\n",
       "      <th>41995</th>\n",
       "      <td>0</td>\n",
       "      <td>0</td>\n",
       "      <td>0</td>\n",
       "      <td>0</td>\n",
       "      <td>0</td>\n",
       "      <td>0</td>\n",
       "      <td>0</td>\n",
       "      <td>0</td>\n",
       "      <td>0</td>\n",
       "      <td>0</td>\n",
       "      <td>...</td>\n",
       "      <td>0</td>\n",
       "      <td>0</td>\n",
       "      <td>0</td>\n",
       "      <td>0</td>\n",
       "      <td>0</td>\n",
       "      <td>0</td>\n",
       "      <td>0</td>\n",
       "      <td>0</td>\n",
       "      <td>0</td>\n",
       "      <td>0</td>\n",
       "    </tr>\n",
       "    <tr>\n",
       "      <th>41996</th>\n",
       "      <td>1</td>\n",
       "      <td>0</td>\n",
       "      <td>0</td>\n",
       "      <td>0</td>\n",
       "      <td>0</td>\n",
       "      <td>0</td>\n",
       "      <td>0</td>\n",
       "      <td>0</td>\n",
       "      <td>0</td>\n",
       "      <td>0</td>\n",
       "      <td>...</td>\n",
       "      <td>0</td>\n",
       "      <td>0</td>\n",
       "      <td>0</td>\n",
       "      <td>0</td>\n",
       "      <td>0</td>\n",
       "      <td>0</td>\n",
       "      <td>0</td>\n",
       "      <td>0</td>\n",
       "      <td>0</td>\n",
       "      <td>0</td>\n",
       "    </tr>\n",
       "    <tr>\n",
       "      <th>41997</th>\n",
       "      <td>7</td>\n",
       "      <td>0</td>\n",
       "      <td>0</td>\n",
       "      <td>0</td>\n",
       "      <td>0</td>\n",
       "      <td>0</td>\n",
       "      <td>0</td>\n",
       "      <td>0</td>\n",
       "      <td>0</td>\n",
       "      <td>0</td>\n",
       "      <td>...</td>\n",
       "      <td>0</td>\n",
       "      <td>0</td>\n",
       "      <td>0</td>\n",
       "      <td>0</td>\n",
       "      <td>0</td>\n",
       "      <td>0</td>\n",
       "      <td>0</td>\n",
       "      <td>0</td>\n",
       "      <td>0</td>\n",
       "      <td>0</td>\n",
       "    </tr>\n",
       "    <tr>\n",
       "      <th>41998</th>\n",
       "      <td>6</td>\n",
       "      <td>0</td>\n",
       "      <td>0</td>\n",
       "      <td>0</td>\n",
       "      <td>0</td>\n",
       "      <td>0</td>\n",
       "      <td>0</td>\n",
       "      <td>0</td>\n",
       "      <td>0</td>\n",
       "      <td>0</td>\n",
       "      <td>...</td>\n",
       "      <td>0</td>\n",
       "      <td>0</td>\n",
       "      <td>0</td>\n",
       "      <td>0</td>\n",
       "      <td>0</td>\n",
       "      <td>0</td>\n",
       "      <td>0</td>\n",
       "      <td>0</td>\n",
       "      <td>0</td>\n",
       "      <td>0</td>\n",
       "    </tr>\n",
       "    <tr>\n",
       "      <th>41999</th>\n",
       "      <td>9</td>\n",
       "      <td>0</td>\n",
       "      <td>0</td>\n",
       "      <td>0</td>\n",
       "      <td>0</td>\n",
       "      <td>0</td>\n",
       "      <td>0</td>\n",
       "      <td>0</td>\n",
       "      <td>0</td>\n",
       "      <td>0</td>\n",
       "      <td>...</td>\n",
       "      <td>0</td>\n",
       "      <td>0</td>\n",
       "      <td>0</td>\n",
       "      <td>0</td>\n",
       "      <td>0</td>\n",
       "      <td>0</td>\n",
       "      <td>0</td>\n",
       "      <td>0</td>\n",
       "      <td>0</td>\n",
       "      <td>0</td>\n",
       "    </tr>\n",
       "  </tbody>\n",
       "</table>\n",
       "<p>42000 rows × 785 columns</p>\n",
       "</div>"
      ],
      "text/plain": [
       "       label  pixel0  pixel1  pixel2  pixel3  pixel4  pixel5  pixel6  pixel7  \\\n",
       "0          1       0       0       0       0       0       0       0       0   \n",
       "1          0       0       0       0       0       0       0       0       0   \n",
       "2          1       0       0       0       0       0       0       0       0   \n",
       "3          4       0       0       0       0       0       0       0       0   \n",
       "4          0       0       0       0       0       0       0       0       0   \n",
       "...      ...     ...     ...     ...     ...     ...     ...     ...     ...   \n",
       "41995      0       0       0       0       0       0       0       0       0   \n",
       "41996      1       0       0       0       0       0       0       0       0   \n",
       "41997      7       0       0       0       0       0       0       0       0   \n",
       "41998      6       0       0       0       0       0       0       0       0   \n",
       "41999      9       0       0       0       0       0       0       0       0   \n",
       "\n",
       "       pixel8  ...  pixel774  pixel775  pixel776  pixel777  pixel778  \\\n",
       "0           0  ...         0         0         0         0         0   \n",
       "1           0  ...         0         0         0         0         0   \n",
       "2           0  ...         0         0         0         0         0   \n",
       "3           0  ...         0         0         0         0         0   \n",
       "4           0  ...         0         0         0         0         0   \n",
       "...       ...  ...       ...       ...       ...       ...       ...   \n",
       "41995       0  ...         0         0         0         0         0   \n",
       "41996       0  ...         0         0         0         0         0   \n",
       "41997       0  ...         0         0         0         0         0   \n",
       "41998       0  ...         0         0         0         0         0   \n",
       "41999       0  ...         0         0         0         0         0   \n",
       "\n",
       "       pixel779  pixel780  pixel781  pixel782  pixel783  \n",
       "0             0         0         0         0         0  \n",
       "1             0         0         0         0         0  \n",
       "2             0         0         0         0         0  \n",
       "3             0         0         0         0         0  \n",
       "4             0         0         0         0         0  \n",
       "...         ...       ...       ...       ...       ...  \n",
       "41995         0         0         0         0         0  \n",
       "41996         0         0         0         0         0  \n",
       "41997         0         0         0         0         0  \n",
       "41998         0         0         0         0         0  \n",
       "41999         0         0         0         0         0  \n",
       "\n",
       "[42000 rows x 785 columns]"
      ]
     },
     "execution_count": 17,
     "metadata": {},
     "output_type": "execute_result"
    }
   ],
   "source": [
    "#Récuperation du dataframe train \n",
    "df_raw = pd.read_csv(\"C:/Users/User/Desktop/Demo_CNN/train.csv\")\n",
    "df_raw"
   ]
  },
  {
   "cell_type": "code",
   "execution_count": 115,
   "id": "30cf83f3",
   "metadata": {},
   "outputs": [
    {
     "data": {
      "text/html": [
       "<div>\n",
       "<style scoped>\n",
       "    .dataframe tbody tr th:only-of-type {\n",
       "        vertical-align: middle;\n",
       "    }\n",
       "\n",
       "    .dataframe tbody tr th {\n",
       "        vertical-align: top;\n",
       "    }\n",
       "\n",
       "    .dataframe thead th {\n",
       "        text-align: right;\n",
       "    }\n",
       "</style>\n",
       "<table border=\"1\" class=\"dataframe\">\n",
       "  <thead>\n",
       "    <tr style=\"text-align: right;\">\n",
       "      <th></th>\n",
       "      <th>pixel0</th>\n",
       "      <th>pixel1</th>\n",
       "      <th>pixel2</th>\n",
       "      <th>pixel3</th>\n",
       "      <th>pixel4</th>\n",
       "      <th>pixel5</th>\n",
       "      <th>pixel6</th>\n",
       "      <th>pixel7</th>\n",
       "      <th>pixel8</th>\n",
       "      <th>pixel9</th>\n",
       "      <th>...</th>\n",
       "      <th>pixel774</th>\n",
       "      <th>pixel775</th>\n",
       "      <th>pixel776</th>\n",
       "      <th>pixel777</th>\n",
       "      <th>pixel778</th>\n",
       "      <th>pixel779</th>\n",
       "      <th>pixel780</th>\n",
       "      <th>pixel781</th>\n",
       "      <th>pixel782</th>\n",
       "      <th>pixel783</th>\n",
       "    </tr>\n",
       "  </thead>\n",
       "  <tbody>\n",
       "    <tr>\n",
       "      <th>0</th>\n",
       "      <td>0</td>\n",
       "      <td>0</td>\n",
       "      <td>0</td>\n",
       "      <td>0</td>\n",
       "      <td>0</td>\n",
       "      <td>0</td>\n",
       "      <td>0</td>\n",
       "      <td>0</td>\n",
       "      <td>0</td>\n",
       "      <td>0</td>\n",
       "      <td>...</td>\n",
       "      <td>0</td>\n",
       "      <td>0</td>\n",
       "      <td>0</td>\n",
       "      <td>0</td>\n",
       "      <td>0</td>\n",
       "      <td>0</td>\n",
       "      <td>0</td>\n",
       "      <td>0</td>\n",
       "      <td>0</td>\n",
       "      <td>0</td>\n",
       "    </tr>\n",
       "    <tr>\n",
       "      <th>1</th>\n",
       "      <td>0</td>\n",
       "      <td>0</td>\n",
       "      <td>0</td>\n",
       "      <td>0</td>\n",
       "      <td>0</td>\n",
       "      <td>0</td>\n",
       "      <td>0</td>\n",
       "      <td>0</td>\n",
       "      <td>0</td>\n",
       "      <td>0</td>\n",
       "      <td>...</td>\n",
       "      <td>0</td>\n",
       "      <td>0</td>\n",
       "      <td>0</td>\n",
       "      <td>0</td>\n",
       "      <td>0</td>\n",
       "      <td>0</td>\n",
       "      <td>0</td>\n",
       "      <td>0</td>\n",
       "      <td>0</td>\n",
       "      <td>0</td>\n",
       "    </tr>\n",
       "    <tr>\n",
       "      <th>2</th>\n",
       "      <td>0</td>\n",
       "      <td>0</td>\n",
       "      <td>0</td>\n",
       "      <td>0</td>\n",
       "      <td>0</td>\n",
       "      <td>0</td>\n",
       "      <td>0</td>\n",
       "      <td>0</td>\n",
       "      <td>0</td>\n",
       "      <td>0</td>\n",
       "      <td>...</td>\n",
       "      <td>0</td>\n",
       "      <td>0</td>\n",
       "      <td>0</td>\n",
       "      <td>0</td>\n",
       "      <td>0</td>\n",
       "      <td>0</td>\n",
       "      <td>0</td>\n",
       "      <td>0</td>\n",
       "      <td>0</td>\n",
       "      <td>0</td>\n",
       "    </tr>\n",
       "    <tr>\n",
       "      <th>3</th>\n",
       "      <td>0</td>\n",
       "      <td>0</td>\n",
       "      <td>0</td>\n",
       "      <td>0</td>\n",
       "      <td>0</td>\n",
       "      <td>0</td>\n",
       "      <td>0</td>\n",
       "      <td>0</td>\n",
       "      <td>0</td>\n",
       "      <td>0</td>\n",
       "      <td>...</td>\n",
       "      <td>0</td>\n",
       "      <td>0</td>\n",
       "      <td>0</td>\n",
       "      <td>0</td>\n",
       "      <td>0</td>\n",
       "      <td>0</td>\n",
       "      <td>0</td>\n",
       "      <td>0</td>\n",
       "      <td>0</td>\n",
       "      <td>0</td>\n",
       "    </tr>\n",
       "    <tr>\n",
       "      <th>4</th>\n",
       "      <td>0</td>\n",
       "      <td>0</td>\n",
       "      <td>0</td>\n",
       "      <td>0</td>\n",
       "      <td>0</td>\n",
       "      <td>0</td>\n",
       "      <td>0</td>\n",
       "      <td>0</td>\n",
       "      <td>0</td>\n",
       "      <td>0</td>\n",
       "      <td>...</td>\n",
       "      <td>0</td>\n",
       "      <td>0</td>\n",
       "      <td>0</td>\n",
       "      <td>0</td>\n",
       "      <td>0</td>\n",
       "      <td>0</td>\n",
       "      <td>0</td>\n",
       "      <td>0</td>\n",
       "      <td>0</td>\n",
       "      <td>0</td>\n",
       "    </tr>\n",
       "    <tr>\n",
       "      <th>...</th>\n",
       "      <td>...</td>\n",
       "      <td>...</td>\n",
       "      <td>...</td>\n",
       "      <td>...</td>\n",
       "      <td>...</td>\n",
       "      <td>...</td>\n",
       "      <td>...</td>\n",
       "      <td>...</td>\n",
       "      <td>...</td>\n",
       "      <td>...</td>\n",
       "      <td>...</td>\n",
       "      <td>...</td>\n",
       "      <td>...</td>\n",
       "      <td>...</td>\n",
       "      <td>...</td>\n",
       "      <td>...</td>\n",
       "      <td>...</td>\n",
       "      <td>...</td>\n",
       "      <td>...</td>\n",
       "      <td>...</td>\n",
       "      <td>...</td>\n",
       "    </tr>\n",
       "    <tr>\n",
       "      <th>27995</th>\n",
       "      <td>0</td>\n",
       "      <td>0</td>\n",
       "      <td>0</td>\n",
       "      <td>0</td>\n",
       "      <td>0</td>\n",
       "      <td>0</td>\n",
       "      <td>0</td>\n",
       "      <td>0</td>\n",
       "      <td>0</td>\n",
       "      <td>0</td>\n",
       "      <td>...</td>\n",
       "      <td>0</td>\n",
       "      <td>0</td>\n",
       "      <td>0</td>\n",
       "      <td>0</td>\n",
       "      <td>0</td>\n",
       "      <td>0</td>\n",
       "      <td>0</td>\n",
       "      <td>0</td>\n",
       "      <td>0</td>\n",
       "      <td>0</td>\n",
       "    </tr>\n",
       "    <tr>\n",
       "      <th>27996</th>\n",
       "      <td>0</td>\n",
       "      <td>0</td>\n",
       "      <td>0</td>\n",
       "      <td>0</td>\n",
       "      <td>0</td>\n",
       "      <td>0</td>\n",
       "      <td>0</td>\n",
       "      <td>0</td>\n",
       "      <td>0</td>\n",
       "      <td>0</td>\n",
       "      <td>...</td>\n",
       "      <td>0</td>\n",
       "      <td>0</td>\n",
       "      <td>0</td>\n",
       "      <td>0</td>\n",
       "      <td>0</td>\n",
       "      <td>0</td>\n",
       "      <td>0</td>\n",
       "      <td>0</td>\n",
       "      <td>0</td>\n",
       "      <td>0</td>\n",
       "    </tr>\n",
       "    <tr>\n",
       "      <th>27997</th>\n",
       "      <td>0</td>\n",
       "      <td>0</td>\n",
       "      <td>0</td>\n",
       "      <td>0</td>\n",
       "      <td>0</td>\n",
       "      <td>0</td>\n",
       "      <td>0</td>\n",
       "      <td>0</td>\n",
       "      <td>0</td>\n",
       "      <td>0</td>\n",
       "      <td>...</td>\n",
       "      <td>0</td>\n",
       "      <td>0</td>\n",
       "      <td>0</td>\n",
       "      <td>0</td>\n",
       "      <td>0</td>\n",
       "      <td>0</td>\n",
       "      <td>0</td>\n",
       "      <td>0</td>\n",
       "      <td>0</td>\n",
       "      <td>0</td>\n",
       "    </tr>\n",
       "    <tr>\n",
       "      <th>27998</th>\n",
       "      <td>0</td>\n",
       "      <td>0</td>\n",
       "      <td>0</td>\n",
       "      <td>0</td>\n",
       "      <td>0</td>\n",
       "      <td>0</td>\n",
       "      <td>0</td>\n",
       "      <td>0</td>\n",
       "      <td>0</td>\n",
       "      <td>0</td>\n",
       "      <td>...</td>\n",
       "      <td>0</td>\n",
       "      <td>0</td>\n",
       "      <td>0</td>\n",
       "      <td>0</td>\n",
       "      <td>0</td>\n",
       "      <td>0</td>\n",
       "      <td>0</td>\n",
       "      <td>0</td>\n",
       "      <td>0</td>\n",
       "      <td>0</td>\n",
       "    </tr>\n",
       "    <tr>\n",
       "      <th>27999</th>\n",
       "      <td>0</td>\n",
       "      <td>0</td>\n",
       "      <td>0</td>\n",
       "      <td>0</td>\n",
       "      <td>0</td>\n",
       "      <td>0</td>\n",
       "      <td>0</td>\n",
       "      <td>0</td>\n",
       "      <td>0</td>\n",
       "      <td>0</td>\n",
       "      <td>...</td>\n",
       "      <td>0</td>\n",
       "      <td>0</td>\n",
       "      <td>0</td>\n",
       "      <td>0</td>\n",
       "      <td>0</td>\n",
       "      <td>0</td>\n",
       "      <td>0</td>\n",
       "      <td>0</td>\n",
       "      <td>0</td>\n",
       "      <td>0</td>\n",
       "    </tr>\n",
       "  </tbody>\n",
       "</table>\n",
       "<p>28000 rows × 784 columns</p>\n",
       "</div>"
      ],
      "text/plain": [
       "       pixel0  pixel1  pixel2  pixel3  pixel4  pixel5  pixel6  pixel7  pixel8  \\\n",
       "0           0       0       0       0       0       0       0       0       0   \n",
       "1           0       0       0       0       0       0       0       0       0   \n",
       "2           0       0       0       0       0       0       0       0       0   \n",
       "3           0       0       0       0       0       0       0       0       0   \n",
       "4           0       0       0       0       0       0       0       0       0   \n",
       "...       ...     ...     ...     ...     ...     ...     ...     ...     ...   \n",
       "27995       0       0       0       0       0       0       0       0       0   \n",
       "27996       0       0       0       0       0       0       0       0       0   \n",
       "27997       0       0       0       0       0       0       0       0       0   \n",
       "27998       0       0       0       0       0       0       0       0       0   \n",
       "27999       0       0       0       0       0       0       0       0       0   \n",
       "\n",
       "       pixel9  ...  pixel774  pixel775  pixel776  pixel777  pixel778  \\\n",
       "0           0  ...         0         0         0         0         0   \n",
       "1           0  ...         0         0         0         0         0   \n",
       "2           0  ...         0         0         0         0         0   \n",
       "3           0  ...         0         0         0         0         0   \n",
       "4           0  ...         0         0         0         0         0   \n",
       "...       ...  ...       ...       ...       ...       ...       ...   \n",
       "27995       0  ...         0         0         0         0         0   \n",
       "27996       0  ...         0         0         0         0         0   \n",
       "27997       0  ...         0         0         0         0         0   \n",
       "27998       0  ...         0         0         0         0         0   \n",
       "27999       0  ...         0         0         0         0         0   \n",
       "\n",
       "       pixel779  pixel780  pixel781  pixel782  pixel783  \n",
       "0             0         0         0         0         0  \n",
       "1             0         0         0         0         0  \n",
       "2             0         0         0         0         0  \n",
       "3             0         0         0         0         0  \n",
       "4             0         0         0         0         0  \n",
       "...         ...       ...       ...       ...       ...  \n",
       "27995         0         0         0         0         0  \n",
       "27996         0         0         0         0         0  \n",
       "27997         0         0         0         0         0  \n",
       "27998         0         0         0         0         0  \n",
       "27999         0         0         0         0         0  \n",
       "\n",
       "[28000 rows x 784 columns]"
      ]
     },
     "execution_count": 115,
     "metadata": {},
     "output_type": "execute_result"
    }
   ],
   "source": [
    "#Récuperation du dataframe test\n",
    "X_demo = pd.read_csv(\"C:/Users/User/Desktop/Demo_CNN/test.csv\")\n",
    "X_demo"
   ]
  },
  {
   "cell_type": "code",
   "execution_count": 8,
   "id": "4ebe3c67",
   "metadata": {},
   "outputs": [
    {
     "name": "stdout",
     "output_type": "stream",
     "text": [
      "<class 'pandas.core.frame.DataFrame'>\n",
      "RangeIndex: 42000 entries, 0 to 41999\n",
      "Columns: 785 entries, label to pixel783\n",
      "dtypes: int64(785)\n",
      "memory usage: 251.5 MB\n"
     ]
    }
   ],
   "source": [
    "df_raw.info()"
   ]
  },
  {
   "cell_type": "code",
   "execution_count": 9,
   "id": "58941337",
   "metadata": {},
   "outputs": [
    {
     "data": {
      "text/plain": [
       "array([1, 0, 4, 7, 3, 5, 8, 9, 2, 6], dtype=int64)"
      ]
     },
     "execution_count": 9,
     "metadata": {},
     "output_type": "execute_result"
    }
   ],
   "source": [
    "df_raw[\"label\"].unique()"
   ]
  },
  {
   "cell_type": "markdown",
   "id": "475a525a",
   "metadata": {},
   "source": [
    "# 1ère itération  "
   ]
  },
  {
   "cell_type": "code",
   "execution_count": 125,
   "id": "f3c16909",
   "metadata": {},
   "outputs": [],
   "source": [
    "# df itération 1\n",
    "df = df_raw.copy()"
   ]
  },
  {
   "cell_type": "code",
   "execution_count": 126,
   "id": "8b6c6e7f",
   "metadata": {},
   "outputs": [],
   "source": [
    "#On définit les features et la Target\n",
    "X = df.drop(['label'], axis = 1)\n",
    "y = df['label']"
   ]
  },
  {
   "cell_type": "code",
   "execution_count": 127,
   "id": "8bf79be4",
   "metadata": {},
   "outputs": [],
   "source": [
    "# Splitting the data\n",
    "X_train, X_test, y_train, y_test = train_test_split(X, y, test_size=.3, random_state=1, stratify=y)"
   ]
  },
  {
   "cell_type": "code",
   "execution_count": 90,
   "id": "1057b91a",
   "metadata": {},
   "outputs": [
    {
     "data": {
      "text/plain": [
       "[784]"
      ]
     },
     "execution_count": 90,
     "metadata": {},
     "output_type": "execute_result"
    }
   ],
   "source": [
    "input_shape = [X.shape[1]]\n",
    "input_shape"
   ]
  },
  {
   "cell_type": "code",
   "execution_count": 26,
   "id": "57310993",
   "metadata": {},
   "outputs": [],
   "source": [
    "#Model \n",
    "model = tf.keras.models.Sequential([tf.keras.layers.Flatten(input_shape=input_shape), \n",
    "                                    tf.keras.layers.Dense(128, activation='relu'), \n",
    "                                    tf.keras.layers.Dense(10, activation=tf.nn.softmax)])"
   ]
  },
  {
   "cell_type": "code",
   "execution_count": 27,
   "id": "b88997eb",
   "metadata": {},
   "outputs": [],
   "source": [
    "model.compile(optimizer = 'adam',\n",
    "              loss = 'sparse_categorical_crossentropy',\n",
    "              metrics=['accuracy'])"
   ]
  },
  {
   "cell_type": "code",
   "execution_count": 28,
   "id": "175a7889",
   "metadata": {},
   "outputs": [
    {
     "name": "stdout",
     "output_type": "stream",
     "text": [
      "Epoch 1/50\n",
      "735/735 [==============================] - 4s 4ms/step - loss: 4.7360 - accuracy: 0.8404 - val_loss: 1.0218 - val_accuracy: 0.8588\n",
      "Epoch 2/50\n",
      "735/735 [==============================] - 2s 3ms/step - loss: 0.6235 - accuracy: 0.8958 - val_loss: 0.7128 - val_accuracy: 0.8901\n",
      "Epoch 3/50\n",
      "735/735 [==============================] - 2s 3ms/step - loss: 0.4070 - accuracy: 0.9128 - val_loss: 0.6058 - val_accuracy: 0.8991\n",
      "Epoch 4/50\n",
      "735/735 [==============================] - 2s 3ms/step - loss: 0.3205 - accuracy: 0.9261 - val_loss: 0.5234 - val_accuracy: 0.9105\n",
      "Epoch 5/50\n",
      "735/735 [==============================] - 2s 3ms/step - loss: 0.2779 - accuracy: 0.9335 - val_loss: 0.5219 - val_accuracy: 0.9129\n",
      "Epoch 6/50\n",
      "735/735 [==============================] - 2s 3ms/step - loss: 0.2615 - accuracy: 0.9371 - val_loss: 0.5250 - val_accuracy: 0.9221\n",
      "Epoch 7/50\n",
      "735/735 [==============================] - 2s 3ms/step - loss: 0.2452 - accuracy: 0.9390 - val_loss: 0.4616 - val_accuracy: 0.9247\n",
      "Epoch 8/50\n",
      "735/735 [==============================] - 2s 3ms/step - loss: 0.2274 - accuracy: 0.9446 - val_loss: 0.4244 - val_accuracy: 0.9311\n",
      "Epoch 9/50\n",
      "735/735 [==============================] - 2s 3ms/step - loss: 0.2110 - accuracy: 0.9505 - val_loss: 0.4054 - val_accuracy: 0.9277\n",
      "Epoch 10/50\n",
      "735/735 [==============================] - 2s 3ms/step - loss: 0.1960 - accuracy: 0.9514 - val_loss: 0.5905 - val_accuracy: 0.9218\n",
      "Epoch 11/50\n",
      "735/735 [==============================] - 3s 4ms/step - loss: 0.1864 - accuracy: 0.9536 - val_loss: 0.4612 - val_accuracy: 0.9354\n",
      "Epoch 12/50\n",
      "735/735 [==============================] - 2s 3ms/step - loss: 0.1793 - accuracy: 0.9557 - val_loss: 0.4680 - val_accuracy: 0.9250\n",
      "Epoch 13/50\n",
      "735/735 [==============================] - 2s 3ms/step - loss: 0.1796 - accuracy: 0.9573 - val_loss: 0.4738 - val_accuracy: 0.9400\n",
      "Epoch 14/50\n",
      "735/735 [==============================] - 2s 3ms/step - loss: 0.1659 - accuracy: 0.9622 - val_loss: 0.4309 - val_accuracy: 0.9403\n",
      "Epoch 15/50\n",
      "735/735 [==============================] - 3s 3ms/step - loss: 0.1617 - accuracy: 0.9623 - val_loss: 0.5047 - val_accuracy: 0.9342\n",
      "Epoch 16/50\n",
      "735/735 [==============================] - 2s 3ms/step - loss: 0.1611 - accuracy: 0.9616 - val_loss: 0.4206 - val_accuracy: 0.9383\n",
      "Epoch 17/50\n",
      "735/735 [==============================] - 2s 3ms/step - loss: 0.1537 - accuracy: 0.9662 - val_loss: 0.4191 - val_accuracy: 0.9439\n",
      "Epoch 18/50\n",
      "735/735 [==============================] - 2s 3ms/step - loss: 0.1521 - accuracy: 0.9644 - val_loss: 0.4186 - val_accuracy: 0.9432\n",
      "Epoch 19/50\n",
      "735/735 [==============================] - 2s 3ms/step - loss: 0.1338 - accuracy: 0.9673 - val_loss: 0.4576 - val_accuracy: 0.9369\n",
      "Epoch 20/50\n",
      "735/735 [==============================] - 2s 3ms/step - loss: 0.1404 - accuracy: 0.9659 - val_loss: 0.4425 - val_accuracy: 0.9350\n",
      "Epoch 21/50\n",
      "735/735 [==============================] - 2s 3ms/step - loss: 0.1419 - accuracy: 0.9689 - val_loss: 0.4280 - val_accuracy: 0.9384\n",
      "Epoch 22/50\n",
      "735/735 [==============================] - 2s 3ms/step - loss: 0.1207 - accuracy: 0.9703 - val_loss: 0.5776 - val_accuracy: 0.9376\n",
      "Epoch 23/50\n",
      "735/735 [==============================] - 3s 3ms/step - loss: 0.1327 - accuracy: 0.9691 - val_loss: 0.5034 - val_accuracy: 0.9427\n",
      "Epoch 24/50\n",
      "735/735 [==============================] - 2s 3ms/step - loss: 0.1274 - accuracy: 0.9708 - val_loss: 0.5363 - val_accuracy: 0.9437\n",
      "Epoch 25/50\n",
      "735/735 [==============================] - 2s 3ms/step - loss: 0.1135 - accuracy: 0.9725 - val_loss: 0.5681 - val_accuracy: 0.9400oss: 0.1\n",
      "Epoch 26/50\n",
      "735/735 [==============================] - 2s 3ms/step - loss: 0.1295 - accuracy: 0.9719 - val_loss: 0.5865 - val_accuracy: 0.9434\n",
      "Epoch 27/50\n",
      "735/735 [==============================] - 2s 3ms/step - loss: 0.1209 - accuracy: 0.9717 - val_loss: 0.5854 - val_accuracy: 0.9417\n",
      "Epoch 28/50\n",
      "735/735 [==============================] - 2s 3ms/step - loss: 0.1203 - accuracy: 0.9735 - val_loss: 0.5503 - val_accuracy: 0.9491\n",
      "Epoch 29/50\n",
      "735/735 [==============================] - 2s 3ms/step - loss: 0.1201 - accuracy: 0.9737 - val_loss: 0.5968 - val_accuracy: 0.9471\n",
      "Epoch 30/50\n",
      "735/735 [==============================] - 2s 3ms/step - loss: 0.1098 - accuracy: 0.9755 - val_loss: 0.6793 - val_accuracy: 0.9464\n",
      "Epoch 31/50\n",
      "735/735 [==============================] - 3s 3ms/step - loss: 0.0999 - accuracy: 0.9787 - val_loss: 0.5970 - val_accuracy: 0.9447\n",
      "Epoch 32/50\n",
      "735/735 [==============================] - 3s 4ms/step - loss: 0.1008 - accuracy: 0.9772 - val_loss: 0.6503 - val_accuracy: 0.9498\n",
      "Epoch 33/50\n",
      "735/735 [==============================] - 3s 3ms/step - loss: 0.0961 - accuracy: 0.9791 - val_loss: 0.7182 - val_accuracy: 0.9469\n",
      "Epoch 34/50\n",
      "735/735 [==============================] - 2s 3ms/step - loss: 0.1198 - accuracy: 0.9762 - val_loss: 0.6455 - val_accuracy: 0.9432\n",
      "Epoch 35/50\n",
      "735/735 [==============================] - 3s 4ms/step - loss: 0.1146 - accuracy: 0.9759 - val_loss: 0.7312 - val_accuracy: 0.9435\n",
      "Epoch 36/50\n",
      "735/735 [==============================] - 2s 3ms/step - loss: 0.1172 - accuracy: 0.9749 - val_loss: 0.6702 - val_accuracy: 0.9449\n",
      "Epoch 37/50\n",
      "735/735 [==============================] - 2s 3ms/step - loss: 0.1046 - accuracy: 0.9780 - val_loss: 0.7008 - val_accuracy: 0.9488\n",
      "Epoch 38/50\n",
      "735/735 [==============================] - 2s 3ms/step - loss: 0.0789 - accuracy: 0.9813 - val_loss: 0.7253 - val_accuracy: 0.9476\n",
      "Epoch 39/50\n",
      "735/735 [==============================] - 2s 3ms/step - loss: 0.1215 - accuracy: 0.9766 - val_loss: 0.7955 - val_accuracy: 0.9478\n",
      "Epoch 40/50\n",
      "735/735 [==============================] - 2s 3ms/step - loss: 0.1172 - accuracy: 0.9773 - val_loss: 0.7494 - val_accuracy: 0.9480\n",
      "Epoch 41/50\n",
      "735/735 [==============================] - 2s 3ms/step - loss: 0.1022 - accuracy: 0.9790 - val_loss: 0.7732 - val_accuracy: 0.9481\n",
      "Epoch 42/50\n",
      "735/735 [==============================] - 2s 3ms/step - loss: 0.0954 - accuracy: 0.9800 - val_loss: 0.7643 - val_accuracy: 0.9474\n",
      "Epoch 43/50\n",
      "735/735 [==============================] - 2s 3ms/step - loss: 0.0975 - accuracy: 0.9806 - val_loss: 0.9026 - val_accuracy: 0.9446\n",
      "Epoch 44/50\n",
      "735/735 [==============================] - 2s 3ms/step - loss: 0.1049 - accuracy: 0.9806 - val_loss: 1.0464 - val_accuracy: 0.9454\n",
      "Epoch 45/50\n",
      "735/735 [==============================] - 2s 3ms/step - loss: 0.1012 - accuracy: 0.9812 - val_loss: 0.8047 - val_accuracy: 0.9474\n",
      "Epoch 46/50\n",
      "735/735 [==============================] - 2s 3ms/step - loss: 0.0914 - accuracy: 0.9811 - val_loss: 0.8464 - val_accuracy: 0.9379\n",
      "Epoch 47/50\n",
      "735/735 [==============================] - 2s 3ms/step - loss: 0.1003 - accuracy: 0.9809 - val_loss: 0.8264 - val_accuracy: 0.9434\n",
      "Epoch 48/50\n",
      "735/735 [==============================] - 2s 3ms/step - loss: 0.0871 - accuracy: 0.9803 - val_loss: 0.8033 - val_accuracy: 0.9497\n",
      "Epoch 49/50\n",
      "735/735 [==============================] - 2s 3ms/step - loss: 0.0852 - accuracy: 0.9830 - val_loss: 0.8352 - val_accuracy: 0.9490\n",
      "Epoch 50/50\n",
      "735/735 [==============================] - 2s 3ms/step - loss: 0.0947 - accuracy: 0.9810 - val_loss: 1.0908 - val_accuracy: 0.9400\n"
     ]
    }
   ],
   "source": [
    "#Entrainer le model\n",
    "history = model.fit(\n",
    "    X_train, y_train,\n",
    "    validation_split=0.2,\n",
    "    batch_size=32,\n",
    "    epochs=50,\n",
    ")"
   ]
  },
  {
   "cell_type": "code",
   "execution_count": 29,
   "id": "31e69678",
   "metadata": {},
   "outputs": [
    {
     "data": {
      "text/plain": [
       "<matplotlib.legend.Legend at 0x2bd10c4ae20>"
      ]
     },
     "execution_count": 29,
     "metadata": {},
     "output_type": "execute_result"
    },
    {
     "data": {
      "image/png": "[encoded data removed]",
      "text/plain": [
       "<Figure size 432x288 with 1 Axes>"
      ]
     },
     "metadata": {
      "needs_background": "light"
     },
     "output_type": "display_data"
    }
   ],
   "source": [
    "# history Accuracy \n",
    "plt.plot(history.history['accuracy'], label='accuracy')\n",
    "plt.plot(history.history['val_accuracy'], label = 'val_accuracy')\n",
    "plt.xlabel('Epoch')\n",
    "plt.ylabel('Accuracy')\n",
    "plt.ylim([0.5, 1])\n",
    "plt.legend(loc='lower right')"
   ]
  },
  {
   "cell_type": "code",
   "execution_count": 30,
   "id": "789f66ae",
   "metadata": {},
   "outputs": [
    {
     "data": {
      "image/png": "[encoded data removed]",
      "text/plain": [
       "<Figure size 432x288 with 1 Axes>"
      ]
     },
     "metadata": {
      "needs_background": "light"
     },
     "output_type": "display_data"
    }
   ],
   "source": [
    "# summarize history for loss\n",
    "plt.plot(history.history['loss'])\n",
    "plt.plot(history.history['val_loss'])\n",
    "plt.title('model loss')\n",
    "plt.ylabel('loss')\n",
    "plt.xlabel('epoch')\n",
    "plt.legend(['train', 'test'], loc='upper left')\n",
    "plt.show()"
   ]
  },
  {
   "cell_type": "code",
   "execution_count": null,
   "id": "7a04d1bc",
   "metadata": {},
   "outputs": [],
   "source": [
    "# On remarque que vers 20 epoch, le model commence a overfitter, donc on va utiliser un early stopping "
   ]
  },
  {
   "cell_type": "markdown",
   "id": "b3a9e610",
   "metadata": {},
   "source": [
    "## Avec Early Stopping "
   ]
  },
  {
   "cell_type": "code",
   "execution_count": 31,
   "id": "aa4a5002",
   "metadata": {},
   "outputs": [],
   "source": [
    "#Model \n",
    "model = tf.keras.models.Sequential([tf.keras.layers.Flatten(input_shape=input_shape), \n",
    "                                    tf.keras.layers.Dense(128, activation='relu'), \n",
    "                                    tf.keras.layers.Dense(10, activation=tf.nn.softmax)])"
   ]
  },
  {
   "cell_type": "code",
   "execution_count": 33,
   "id": "cbcfa3d6",
   "metadata": {},
   "outputs": [],
   "source": [
    "model.compile(optimizer = 'adam',\n",
    "              loss = 'sparse_categorical_crossentropy',\n",
    "              metrics=['accuracy'])"
   ]
  },
  {
   "cell_type": "code",
   "execution_count": 34,
   "id": "76118915",
   "metadata": {},
   "outputs": [],
   "source": [
    "early_stopping = callbacks.EarlyStopping(\n",
    "    min_delta=0.001, # minimium amount of change to count as an improvement\n",
    "    patience=20, # how many epochs to wait before stopping\n",
    "    restore_best_weights=True,\n",
    ")"
   ]
  },
  {
   "cell_type": "code",
   "execution_count": 35,
   "id": "fc6d9728",
   "metadata": {},
   "outputs": [
    {
     "name": "stdout",
     "output_type": "stream",
     "text": [
      "Epoch 1/50\n",
      "735/735 [==============================] - 3s 4ms/step - loss: 4.6493 - accuracy: 0.8308 - val_loss: 1.0042 - val_accuracy: 0.8442\n",
      "Epoch 2/50\n",
      "735/735 [==============================] - 3s 3ms/step - loss: 0.5903 - accuracy: 0.8844 - val_loss: 0.6424 - val_accuracy: 0.8833\n",
      "Epoch 3/50\n",
      "735/735 [==============================] - 2s 3ms/step - loss: 0.3954 - accuracy: 0.9115 - val_loss: 0.5091 - val_accuracy: 0.8930\n",
      "Epoch 4/50\n",
      "735/735 [==============================] - 2s 3ms/step - loss: 0.2784 - accuracy: 0.9293 - val_loss: 0.4814 - val_accuracy: 0.9218\n",
      "Epoch 5/50\n",
      "735/735 [==============================] - 2s 3ms/step - loss: 0.2633 - accuracy: 0.9351 - val_loss: 0.4439 - val_accuracy: 0.9206\n",
      "Epoch 6/50\n",
      "735/735 [==============================] - 2s 3ms/step - loss: 0.2396 - accuracy: 0.9386 - val_loss: 0.3761 - val_accuracy: 0.9284\n",
      "Epoch 7/50\n",
      "735/735 [==============================] - 2s 3ms/step - loss: 0.2240 - accuracy: 0.9461 - val_loss: 0.3935 - val_accuracy: 0.9293\n",
      "Epoch 8/50\n",
      "735/735 [==============================] - 3s 4ms/step - loss: 0.2197 - accuracy: 0.9450 - val_loss: 0.3910 - val_accuracy: 0.9313\n",
      "Epoch 9/50\n",
      "735/735 [==============================] - 2s 3ms/step - loss: 0.1921 - accuracy: 0.9502 - val_loss: 0.4285 - val_accuracy: 0.9291\n",
      "Epoch 10/50\n",
      "735/735 [==============================] - 2s 3ms/step - loss: 0.1838 - accuracy: 0.9509 - val_loss: 0.5107 - val_accuracy: 0.9250\n",
      "Epoch 11/50\n",
      "735/735 [==============================] - 2s 3ms/step - loss: 0.1895 - accuracy: 0.9531 - val_loss: 0.4393 - val_accuracy: 0.9274\n",
      "Epoch 12/50\n",
      "735/735 [==============================] - 2s 3ms/step - loss: 0.1851 - accuracy: 0.9546 - val_loss: 0.4129 - val_accuracy: 0.9418\n",
      "Epoch 13/50\n",
      "735/735 [==============================] - 3s 3ms/step - loss: 0.1850 - accuracy: 0.9568 - val_loss: 0.4196 - val_accuracy: 0.9287\n",
      "Epoch 14/50\n",
      "735/735 [==============================] - 2s 3ms/step - loss: 0.1547 - accuracy: 0.9605 - val_loss: 0.4528 - val_accuracy: 0.9388\n",
      "Epoch 15/50\n",
      "735/735 [==============================] - 3s 4ms/step - loss: 0.1506 - accuracy: 0.9609 - val_loss: 0.4593 - val_accuracy: 0.9376\n",
      "Epoch 16/50\n",
      "735/735 [==============================] - 2s 3ms/step - loss: 0.1651 - accuracy: 0.9584 - val_loss: 0.3830 - val_accuracy: 0.9381\n",
      "Epoch 17/50\n",
      "735/735 [==============================] - 2s 3ms/step - loss: 0.1392 - accuracy: 0.9645 - val_loss: 0.4113 - val_accuracy: 0.9413\n",
      "Epoch 18/50\n",
      "735/735 [==============================] - 2s 3ms/step - loss: 0.1429 - accuracy: 0.9644 - val_loss: 0.4775 - val_accuracy: 0.9293\n",
      "Epoch 19/50\n",
      "735/735 [==============================] - 2s 3ms/step - loss: 0.1467 - accuracy: 0.9651 - val_loss: 0.4686 - val_accuracy: 0.9406\n",
      "Epoch 20/50\n",
      "735/735 [==============================] - 2s 3ms/step - loss: 0.1372 - accuracy: 0.9664 - val_loss: 0.5130 - val_accuracy: 0.9372\n",
      "Epoch 21/50\n",
      "735/735 [==============================] - 2s 3ms/step - loss: 0.1197 - accuracy: 0.9699 - val_loss: 0.5046 - val_accuracy: 0.9374\n",
      "Epoch 22/50\n",
      "735/735 [==============================] - 2s 3ms/step - loss: 0.1181 - accuracy: 0.9695 - val_loss: 0.4719 - val_accuracy: 0.9376\n",
      "Epoch 23/50\n",
      "735/735 [==============================] - 2s 3ms/step - loss: 0.1281 - accuracy: 0.9688 - val_loss: 0.5110 - val_accuracy: 0.9440\n",
      "Epoch 24/50\n",
      "735/735 [==============================] - 2s 3ms/step - loss: 0.1097 - accuracy: 0.9723 - val_loss: 0.4435 - val_accuracy: 0.9422\n",
      "Epoch 25/50\n",
      "735/735 [==============================] - 2s 3ms/step - loss: 0.1361 - accuracy: 0.9695 - val_loss: 0.5506 - val_accuracy: 0.9437\n",
      "Epoch 26/50\n",
      "735/735 [==============================] - 2s 3ms/step - loss: 0.1211 - accuracy: 0.9705 - val_loss: 0.5884 - val_accuracy: 0.9337\n"
     ]
    }
   ],
   "source": [
    "#Entrainer le model\n",
    "history = model.fit(\n",
    "    X_train, y_train,\n",
    "    validation_split=0.2,\n",
    "    batch_size=32,\n",
    "    epochs=50,\n",
    "    callbacks=[early_stopping]\n",
    ")"
   ]
  },
  {
   "cell_type": "code",
   "execution_count": 36,
   "id": "f5d932a6",
   "metadata": {},
   "outputs": [
    {
     "data": {
      "image/png": "[encoded data removed]",
      "text/plain": [
       "<Figure size 432x288 with 1 Axes>"
      ]
     },
     "metadata": {
      "needs_background": "light"
     },
     "output_type": "display_data"
    }
   ],
   "source": [
    "plt.plot(history.history['accuracy'], label='accuracy')\n",
    "plt.plot(history.history['val_accuracy'], label = 'val_accuracy')\n",
    "plt.xlabel('Epoch')\n",
    "plt.ylabel('Accuracy')\n",
    "plt.ylim([0.5, 1])\n",
    "plt.legend(loc='lower right')\n",
    "plt.text(early_stopping.stopped_epoch, history.history['val_accuracy'][-1], str(round(history.history['val_accuracy'][-1],2)))\n",
    "plt.show()"
   ]
  },
  {
   "cell_type": "code",
   "execution_count": 37,
   "id": "08b0bc16",
   "metadata": {},
   "outputs": [
    {
     "data": {
      "image/png": "[encoded data removed]",
      "text/plain": [
       "<Figure size 432x288 with 1 Axes>"
      ]
     },
     "metadata": {
      "needs_background": "light"
     },
     "output_type": "display_data"
    }
   ],
   "source": [
    "# summarize history for loss\n",
    "plt.plot(history.history['loss'])\n",
    "plt.plot(history.history['val_loss'])\n",
    "plt.title('model loss')\n",
    "plt.ylabel('loss')\n",
    "plt.xlabel('epoch')\n",
    "plt.legend(['train', 'test'], loc='upper left')\n",
    "plt.text(early_stopping.stopped_epoch, history.history['val_loss'][-1], str(round(history.history['val_loss'][-1],2)))\n",
    "plt.show()"
   ]
  },
  {
   "cell_type": "code",
   "execution_count": null,
   "id": "aaeb7036",
   "metadata": {},
   "outputs": [],
   "source": [
    "#Classification report "
   ]
  },
  {
   "cell_type": "code",
   "execution_count": 46,
   "id": "7e1eab3a",
   "metadata": {},
   "outputs": [],
   "source": [
    "# On prédit les résultats\n",
    "predictions = model.predict(X_test)\n",
    "y_pred = np.argmax(predictions, axis=1)"
   ]
  },
  {
   "cell_type": "code",
   "execution_count": 49,
   "id": "9b0af958",
   "metadata": {},
   "outputs": [
    {
     "data": {
      "image/png": "[encoded data removed]",
      "text/plain": [
       "<Figure size 1800x1440 with 5 Axes>"
      ]
     },
     "metadata": {},
     "output_type": "display_data"
    }
   ],
   "source": [
    "#Plotter les images et predictions de notre modèle sur X_test :\n",
    "\n",
    "plt.figure(figsize=(25,20))\n",
    "for i in range(5):\n",
    "    plt.subplot(1,5,i+1)\n",
    "    plt.xticks([])\n",
    "    plt.yticks([])\n",
    "    plt.grid(False)\n",
    "    plt.imshow(np.reshape(X_test.values[i], (28, 28)), cmap='gray')\n",
    "    plt.xlabel(str(y.values[i]))\n",
    "plt.show();"
   ]
  },
  {
   "cell_type": "markdown",
   "id": "74e92d4b",
   "metadata": {},
   "source": [
    "# 2ème itération Reshape et Scaling"
   ]
  },
  {
   "cell_type": "code",
   "execution_count": 169,
   "id": "308391ea",
   "metadata": {},
   "outputs": [],
   "source": [
    "df = df_raw.copy()"
   ]
  },
  {
   "cell_type": "code",
   "execution_count": 170,
   "id": "0a287316",
   "metadata": {},
   "outputs": [],
   "source": [
    "y1 = np.array(df.iloc[:,0].values)\n",
    "x1 = np.array(df.iloc[:,1:].values)"
   ]
  },
  {
   "cell_type": "code",
   "execution_count": 171,
   "id": "4726b230",
   "metadata": {},
   "outputs": [],
   "source": [
    "x1 = x1/255\n",
    "#Reshape\n",
    "nb_image = x1.shape[0]\n",
    "h = 28\n",
    "L = 28\n",
    "train_image = h*L\n",
    "x1 = x1.reshape(nb_image, L, h, 1)\n",
    "#adding categorical \n",
    "y1 = tf.keras.utils.to_categorical(y1, 10)"
   ]
  },
  {
   "cell_type": "code",
   "execution_count": 172,
   "id": "747a193f",
   "metadata": {},
   "outputs": [],
   "source": [
    "# Splitting the data\n",
    "X_train, X_test, y_train, y_test = train_test_split(x1, y1, test_size=.3, random_state=1, stratify=y)"
   ]
  },
  {
   "cell_type": "code",
   "execution_count": 173,
   "id": "927924b2",
   "metadata": {},
   "outputs": [
    {
     "data": {
      "text/plain": [
       "(28, 28, 1)"
      ]
     },
     "execution_count": 173,
     "metadata": {},
     "output_type": "execute_result"
    }
   ],
   "source": [
    "input_shape = X_train.shape[1:]\n",
    "input_shape"
   ]
  },
  {
   "cell_type": "code",
   "execution_count": 174,
   "id": "455312d2",
   "metadata": {},
   "outputs": [
    {
     "name": "stdout",
     "output_type": "stream",
     "text": [
      "(29400, 28, 28, 1)\n",
      "(29400, 10)\n"
     ]
    }
   ],
   "source": [
    "print(X_train.shape)\n",
    "print(y_train.shape)"
   ]
  },
  {
   "cell_type": "code",
   "execution_count": 175,
   "id": "f1380b5e",
   "metadata": {},
   "outputs": [
    {
     "data": {
      "text/plain": [
       "(28, 28, 1)"
      ]
     },
     "execution_count": 175,
     "metadata": {},
     "output_type": "execute_result"
    }
   ],
   "source": [
    "input_shape = X_train.shape[1:]\n",
    "input_shape"
   ]
  },
  {
   "cell_type": "code",
   "execution_count": 184,
   "id": "4dfa4f1f",
   "metadata": {},
   "outputs": [],
   "source": [
    "#Model \n",
    "model = tf.keras.models.Sequential([Conv2D(64,(3,3), input_shape=input_shape),\n",
    "                                    tf.keras.layers.Flatten(), \n",
    "                                    tf.keras.layers.Dense(128, activation='relu'), \n",
    "                                    tf.keras.layers.Dense(10, activation=tf.nn.softmax)])"
   ]
  },
  {
   "cell_type": "code",
   "execution_count": 185,
   "id": "032e8828",
   "metadata": {},
   "outputs": [],
   "source": [
    "model.compile(optimizer = 'adam',\n",
    "              loss = 'categorical_crossentropy',\n",
    "              metrics=['accuracy'])"
   ]
  },
  {
   "cell_type": "code",
   "execution_count": 186,
   "id": "eb9ad9ac",
   "metadata": {},
   "outputs": [],
   "source": [
    "early_stopping = callbacks.EarlyStopping(\n",
    "    min_delta=0.001, # minimium amount of change to count as an improvement\n",
    "    patience=20, # how many epochs to wait before stopping\n",
    "    restore_best_weights=True,\n",
    ")"
   ]
  },
  {
   "cell_type": "code",
   "execution_count": 187,
   "id": "7dd65985",
   "metadata": {},
   "outputs": [
    {
     "name": "stdout",
     "output_type": "stream",
     "text": [
      "Epoch 1/10\n",
      "735/735 [==============================] - 38s 51ms/step - loss: 0.2823 - accuracy: 0.9138 - val_loss: 0.1734 - val_accuracy: 0.9454\n",
      "Epoch 2/10\n",
      "735/735 [==============================] - 36s 49ms/step - loss: 0.1225 - accuracy: 0.9621 - val_loss: 0.1527 - val_accuracy: 0.9553\n",
      "Epoch 3/10\n",
      "735/735 [==============================] - 36s 49ms/step - loss: 0.0778 - accuracy: 0.9750 - val_loss: 0.1710 - val_accuracy: 0.9503\n",
      "Epoch 4/10\n",
      "735/735 [==============================] - 35s 48ms/step - loss: 0.0556 - accuracy: 0.9813 - val_loss: 0.1549 - val_accuracy: 0.9594\n",
      "Epoch 5/10\n",
      "735/735 [==============================] - 36s 48ms/step - loss: 0.0402 - accuracy: 0.9864 - val_loss: 0.1669 - val_accuracy: 0.9590\n",
      "Epoch 6/10\n",
      "735/735 [==============================] - 35s 48ms/step - loss: 0.0289 - accuracy: 0.9905 - val_loss: 0.1794 - val_accuracy: 0.9594\n",
      "Epoch 7/10\n",
      "735/735 [==============================] - 35s 48ms/step - loss: 0.0306 - accuracy: 0.9901 - val_loss: 0.2219 - val_accuracy: 0.9582\n",
      "Epoch 8/10\n",
      "735/735 [==============================] - 39s 54ms/step - loss: 0.0287 - accuracy: 0.9913 - val_loss: 0.2156 - val_accuracy: 0.9571\n",
      "Epoch 9/10\n",
      "735/735 [==============================] - 38s 52ms/step - loss: 0.0207 - accuracy: 0.9929 - val_loss: 0.2270 - val_accuracy: 0.9609\n",
      "Epoch 10/10\n",
      "735/735 [==============================] - 37s 51ms/step - loss: 0.0232 - accuracy: 0.9929 - val_loss: 0.2349 - val_accuracy: 0.9587\n"
     ]
    }
   ],
   "source": [
    "#Entrainer le model\n",
    "history = model.fit(\n",
    "    X_train, y_train,\n",
    "    validation_split=0.2,\n",
    "    batch_size=32,\n",
    "    epochs=10,\n",
    "    callbacks=[early_stopping]\n",
    ")"
   ]
  },
  {
   "cell_type": "code",
   "execution_count": 188,
   "id": "986a06cf",
   "metadata": {},
   "outputs": [
    {
     "data": {
      "image/png": "[encoded data removed]",
      "text/plain": [
       "<Figure size 432x288 with 1 Axes>"
      ]
     },
     "metadata": {
      "needs_background": "light"
     },
     "output_type": "display_data"
    }
   ],
   "source": [
    "plt.plot(history.history['accuracy'], label='accuracy')\n",
    "plt.plot(history.history['val_accuracy'], label = 'val_accuracy')\n",
    "plt.xlabel('Epoch')\n",
    "plt.ylabel('Accuracy')\n",
    "plt.ylim([0.5, 1])\n",
    "plt.legend(loc='lower right')\n",
    "plt.text(early_stopping.stopped_epoch, history.history['val_accuracy'][-1], str(round(history.history['val_accuracy'][-1],2)))\n",
    "plt.show()"
   ]
  },
  {
   "cell_type": "code",
   "execution_count": 189,
   "id": "13483aba",
   "metadata": {},
   "outputs": [
    {
     "data": {
      "image/png": "[encoded data removed]",
      "text/plain": [
       "<Figure size 432x288 with 1 Axes>"
      ]
     },
     "metadata": {
      "needs_background": "light"
     },
     "output_type": "display_data"
    }
   ],
   "source": [
    "# summarize history for loss\n",
    "plt.plot(history.history['loss'])\n",
    "plt.plot(history.history['val_loss'])\n",
    "plt.title('model loss')\n",
    "plt.ylabel('loss')\n",
    "plt.xlabel('epoch')\n",
    "plt.legend(['train', 'test'], loc='upper left')\n",
    "plt.text(early_stopping.stopped_epoch, history.history['val_loss'][-1], str(round(history.history['val_loss'][-1],2)))\n",
    "plt.show()"
   ]
  },
  {
   "cell_type": "code",
   "execution_count": 190,
   "id": "529b8668",
   "metadata": {},
   "outputs": [],
   "source": [
    "# On prédit les résultats\n",
    "y_pred = model.predict(X_test)"
   ]
  },
  {
   "cell_type": "code",
   "execution_count": 191,
   "id": "b21354f8",
   "metadata": {},
   "outputs": [
    {
     "name": "stdout",
     "output_type": "stream",
     "text": [
      "              precision    recall  f1-score   support\n",
      "\n",
      "           0       0.98      0.97      0.98      1240\n",
      "           1       0.98      0.98      0.98      1405\n",
      "           2       0.95      0.96      0.95      1253\n",
      "           3       0.95      0.94      0.95      1305\n",
      "           4       0.94      0.98      0.96      1222\n",
      "           5       0.96      0.95      0.95      1139\n",
      "           6       0.98      0.97      0.98      1241\n",
      "           7       0.92      0.98      0.95      1320\n",
      "           8       0.98      0.92      0.95      1219\n",
      "           9       0.96      0.91      0.94      1256\n",
      "\n",
      "   micro avg       0.96      0.96      0.96     12600\n",
      "   macro avg       0.96      0.96      0.96     12600\n",
      "weighted avg       0.96      0.96      0.96     12600\n",
      " samples avg       0.96      0.96      0.96     12600\n",
      "\n"
     ]
    },
    {
     "name": "stderr",
     "output_type": "stream",
     "text": [
      "C:\\Users\\User\\anaconda3\\lib\\site-packages\\sklearn\\metrics\\_classification.py:1308: UndefinedMetricWarning: Precision and F-score are ill-defined and being set to 0.0 in samples with no predicted labels. Use `zero_division` parameter to control this behavior.\n",
      "  _warn_prf(average, modifier, msg_start, len(result))\n"
     ]
    }
   ],
   "source": [
    "print(classification_report(y_test, np.around(y_pred)))"
   ]
  },
  {
   "cell_type": "markdown",
   "id": "c4f383cb",
   "metadata": {},
   "source": [
    "# 3ème itération: amélioration du model et des couches "
   ]
  },
  {
   "cell_type": "code",
   "execution_count": 243,
   "id": "9e183331",
   "metadata": {},
   "outputs": [
    {
     "data": {
      "text/plain": [
       "[784]"
      ]
     },
     "execution_count": 243,
     "metadata": {},
     "output_type": "execute_result"
    }
   ],
   "source": [
    "# df itération 3\n",
    "df = df_raw.copy()\n",
    "\n",
    "#On définit les features et la Target\n",
    "X = df.drop(['label'], axis = 1)\n",
    "y = df['label']\n",
    "\n",
    "# Splitting the data\n",
    "X_train, X_test, y_train, y_test = train_test_split(X, y, test_size=.3, random_state=1, stratify=y)\n",
    "\n",
    "# Shape \n",
    "input_shape = [X.shape[1]]\n",
    "input_shape"
   ]
  },
  {
   "cell_type": "code",
   "execution_count": 244,
   "id": "3cde257b",
   "metadata": {},
   "outputs": [],
   "source": [
    "    model = Sequential()\n",
    "    model.add(tf.keras.layers.Reshape((28, 28, 1), input_shape=input_shape))\n",
    "    model.add(BatchNormalization())\n",
    "    model.add(layers.Conv2D(64, (3,3), activation='relu', input_shape=(28,28,1)))\n",
    "    model.add(layers.MaxPooling2D((2, 2)))\n",
    "    model.add(BatchNormalization())\n",
    "    model.add(Dropout(0.5))\n",
    "    model.add(layers.Conv2D(128, (3, 3), activation='relu'))\n",
    "    model.add(layers.MaxPooling2D((2, 2)))\n",
    "    model.add(BatchNormalization())\n",
    "    model.add(Dropout(0.5))\n",
    "    model.add(layers.Conv2D(256, (3, 3), activation='relu'))\n",
    "    model.add(BatchNormalization()) \n",
    "    model.add(Dropout(0.5))\n",
    "    model.add(Flatten())\n",
    "    model.add(Dense(units=50, activation='relu'))\n",
    "    model.add(Dense(units=100, activation='relu'))\n",
    "    model.add(Dropout(0.3))\n",
    "    model.add(Dense(units=10, activation='softmax'))"
   ]
  },
  {
   "cell_type": "code",
   "execution_count": 245,
   "id": "122dd0ea",
   "metadata": {},
   "outputs": [],
   "source": [
    "model.compile(optimizer = 'adam',\n",
    "              loss = 'sparse_categorical_crossentropy',\n",
    "              metrics=['accuracy'])"
   ]
  },
  {
   "cell_type": "code",
   "execution_count": 247,
   "id": "328da2c6",
   "metadata": {},
   "outputs": [],
   "source": [
    "early_stopping = callbacks.EarlyStopping(\n",
    "    min_delta=0.001, # minimium amount of change to count as an improvement\n",
    "    patience=20, # how many epochs to wait before stopping\n",
    "    restore_best_weights=True,\n",
    ")\n"
   ]
  },
  {
   "cell_type": "code",
   "execution_count": 248,
   "id": "07ea28d2",
   "metadata": {},
   "outputs": [
    {
     "name": "stdout",
     "output_type": "stream",
     "text": [
      "Epoch 1/50\n",
      "735/735 [==============================] - 75s 100ms/step - loss: 0.3667 - accuracy: 0.8860 - val_loss: 0.0815 - val_accuracy: 0.9769\n",
      "Epoch 2/50\n",
      "735/735 [==============================] - 76s 103ms/step - loss: 0.1324 - accuracy: 0.9622 - val_loss: 0.0800 - val_accuracy: 0.9781\n",
      "Epoch 3/50\n",
      "735/735 [==============================] - 78s 106ms/step - loss: 0.1059 - accuracy: 0.9684 - val_loss: 0.0706 - val_accuracy: 0.9789\n",
      "Epoch 4/50\n",
      "735/735 [==============================] - 80s 109ms/step - loss: 0.0831 - accuracy: 0.9747 - val_loss: 0.0594 - val_accuracy: 0.9840\n",
      "Epoch 5/50\n",
      "735/735 [==============================] - 72s 97ms/step - loss: 0.0782 - accuracy: 0.9771 - val_loss: 0.0723 - val_accuracy: 0.9816\n",
      "Epoch 6/50\n",
      "735/735 [==============================] - 73s 99ms/step - loss: 0.0753 - accuracy: 0.9782 - val_loss: 0.0524 - val_accuracy: 0.9866\n",
      "Epoch 7/50\n",
      "735/735 [==============================] - 78s 106ms/step - loss: 0.0655 - accuracy: 0.9804 - val_loss: 0.0507 - val_accuracy: 0.9862\n",
      "Epoch 8/50\n",
      "735/735 [==============================] - 69s 94ms/step - loss: 0.0577 - accuracy: 0.9816 - val_loss: 0.0518 - val_accuracy: 0.9857\n",
      "Epoch 9/50\n",
      "735/735 [==============================] - 75s 102ms/step - loss: 0.0578 - accuracy: 0.9835 - val_loss: 0.0510 - val_accuracy: 0.9862\n",
      "Epoch 10/50\n",
      "735/735 [==============================] - 71s 97ms/step - loss: 0.0557 - accuracy: 0.9831 - val_loss: 0.0539 - val_accuracy: 0.9864\n",
      "Epoch 11/50\n",
      "735/735 [==============================] - 76s 103ms/step - loss: 0.0481 - accuracy: 0.9850 - val_loss: 0.0540 - val_accuracy: 0.9855\n",
      "Epoch 12/50\n",
      "735/735 [==============================] - 79s 108ms/step - loss: 0.0508 - accuracy: 0.9850 - val_loss: 0.0467 - val_accuracy: 0.9872\n",
      "Epoch 13/50\n",
      "735/735 [==============================] - 82s 111ms/step - loss: 0.0514 - accuracy: 0.9857 - val_loss: 0.0491 - val_accuracy: 0.9878\n",
      "Epoch 14/50\n",
      "735/735 [==============================] - 75s 102ms/step - loss: 0.0476 - accuracy: 0.9862 - val_loss: 0.0441 - val_accuracy: 0.9883\n",
      "Epoch 15/50\n",
      "735/735 [==============================] - 83s 113ms/step - loss: 0.0420 - accuracy: 0.9872 - val_loss: 0.0509 - val_accuracy: 0.9881\n",
      "Epoch 16/50\n",
      "735/735 [==============================] - 76s 104ms/step - loss: 0.0361 - accuracy: 0.9893 - val_loss: 0.0882 - val_accuracy: 0.9844\n",
      "Epoch 17/50\n",
      "735/735 [==============================] - 71s 97ms/step - loss: 0.0442 - accuracy: 0.9880 - val_loss: 0.0494 - val_accuracy: 0.9888\n",
      "Epoch 18/50\n",
      "735/735 [==============================] - 77s 104ms/step - loss: 0.0436 - accuracy: 0.9870 - val_loss: 0.0477 - val_accuracy: 0.9889\n",
      "Epoch 19/50\n",
      "735/735 [==============================] - 75s 102ms/step - loss: 0.0409 - accuracy: 0.9882 - val_loss: 0.0471 - val_accuracy: 0.9886\n",
      "Epoch 20/50\n",
      "735/735 [==============================] - 79s 107ms/step - loss: 0.0367 - accuracy: 0.9892 - val_loss: 0.0473 - val_accuracy: 0.9872\n",
      "Epoch 21/50\n",
      "735/735 [==============================] - 74s 100ms/step - loss: 0.0404 - accuracy: 0.9877 - val_loss: 0.0487 - val_accuracy: 0.9878\n",
      "Epoch 22/50\n",
      "735/735 [==============================] - 76s 103ms/step - loss: 0.0325 - accuracy: 0.9899 - val_loss: 0.0544 - val_accuracy: 0.9884\n",
      "Epoch 23/50\n",
      "735/735 [==============================] - 80s 109ms/step - loss: 0.0352 - accuracy: 0.9895 - val_loss: 0.0589 - val_accuracy: 0.9879\n",
      "Epoch 24/50\n",
      "735/735 [==============================] - 75s 102ms/step - loss: 0.0296 - accuracy: 0.9909 - val_loss: 0.0469 - val_accuracy: 0.9895\n",
      "Epoch 25/50\n",
      "735/735 [==============================] - 75s 103ms/step - loss: 0.0321 - accuracy: 0.9912 - val_loss: 0.0457 - val_accuracy: 0.9898\n",
      "Epoch 26/50\n",
      "735/735 [==============================] - 74s 101ms/step - loss: 0.0355 - accuracy: 0.9905 - val_loss: 0.0508 - val_accuracy: 0.9893\n",
      "Epoch 27/50\n",
      "735/735 [==============================] - 70s 95ms/step - loss: 0.0328 - accuracy: 0.9901 - val_loss: 0.0480 - val_accuracy: 0.9895\n",
      "Epoch 28/50\n",
      "735/735 [==============================] - 76s 104ms/step - loss: 0.0357 - accuracy: 0.9896 - val_loss: 0.0552 - val_accuracy: 0.9867\n",
      "Epoch 29/50\n",
      "735/735 [==============================] - 80s 109ms/step - loss: 0.0330 - accuracy: 0.9903 - val_loss: 0.0429 - val_accuracy: 0.9903\n",
      "Epoch 30/50\n",
      "735/735 [==============================] - 73s 99ms/step - loss: 0.0303 - accuracy: 0.9901 - val_loss: 0.0522 - val_accuracy: 0.9874\n",
      "Epoch 31/50\n",
      "735/735 [==============================] - 77s 105ms/step - loss: 0.0276 - accuracy: 0.9921 - val_loss: 0.0534 - val_accuracy: 0.9876\n",
      "Epoch 32/50\n",
      "735/735 [==============================] - 77s 105ms/step - loss: 0.0293 - accuracy: 0.9909 - val_loss: 0.0463 - val_accuracy: 0.9910\n",
      "Epoch 33/50\n",
      "735/735 [==============================] - 72s 98ms/step - loss: 0.0232 - accuracy: 0.9926 - val_loss: 0.0587 - val_accuracy: 0.9908\n",
      "Epoch 34/50\n",
      "735/735 [==============================] - 69s 94ms/step - loss: 0.0324 - accuracy: 0.9913 - val_loss: 0.0544 - val_accuracy: 0.9895\n",
      "Epoch 35/50\n",
      "735/735 [==============================] - 70s 95ms/step - loss: 0.0297 - accuracy: 0.9920 - val_loss: 0.0505 - val_accuracy: 0.9881\n",
      "Epoch 36/50\n",
      "735/735 [==============================] - 68s 93ms/step - loss: 0.0288 - accuracy: 0.9918 - val_loss: 0.0532 - val_accuracy: 0.9906\n",
      "Epoch 37/50\n",
      "735/735 [==============================] - 70s 95ms/step - loss: 0.0248 - accuracy: 0.9924 - val_loss: 0.0479 - val_accuracy: 0.9910\n",
      "Epoch 38/50\n",
      "735/735 [==============================] - 69s 94ms/step - loss: 0.0260 - accuracy: 0.9926 - val_loss: 0.0530 - val_accuracy: 0.9896\n",
      "Epoch 39/50\n",
      "735/735 [==============================] - 69s 94ms/step - loss: 0.0280 - accuracy: 0.9914 - val_loss: 0.0393 - val_accuracy: 0.9918\n",
      "Epoch 40/50\n",
      "735/735 [==============================] - 70s 95ms/step - loss: 0.0234 - accuracy: 0.9932 - val_loss: 0.0505 - val_accuracy: 0.9898\n",
      "Epoch 41/50\n",
      "735/735 [==============================] - 69s 94ms/step - loss: 0.0268 - accuracy: 0.9933 - val_loss: 0.0511 - val_accuracy: 0.9895\n",
      "Epoch 42/50\n",
      "735/735 [==============================] - 69s 94ms/step - loss: 0.0263 - accuracy: 0.9924 - val_loss: 0.0584 - val_accuracy: 0.9905\n",
      "Epoch 43/50\n",
      "735/735 [==============================] - 68s 93ms/step - loss: 0.0259 - accuracy: 0.9919 - val_loss: 0.0614 - val_accuracy: 0.9903\n",
      "Epoch 44/50\n",
      "735/735 [==============================] - 68s 93ms/step - loss: 0.0255 - accuracy: 0.9922 - val_loss: 0.0511 - val_accuracy: 0.9905\n",
      "Epoch 45/50\n",
      "735/735 [==============================] - 68s 93ms/step - loss: 0.0211 - accuracy: 0.9935 - val_loss: 0.0601 - val_accuracy: 0.9888\n",
      "Epoch 46/50\n",
      "735/735 [==============================] - 68s 92ms/step - loss: 0.0253 - accuracy: 0.9929 - val_loss: 0.0550 - val_accuracy: 0.9900\n",
      "Epoch 47/50\n",
      "735/735 [==============================] - 67s 92ms/step - loss: 0.0244 - accuracy: 0.9929 - val_loss: 0.0524 - val_accuracy: 0.9891\n",
      "Epoch 48/50\n",
      "735/735 [==============================] - 69s 94ms/step - loss: 0.0227 - accuracy: 0.9931 - val_loss: 0.0548 - val_accuracy: 0.9901\n",
      "Epoch 49/50\n",
      "735/735 [==============================] - 68s 93ms/step - loss: 0.0256 - accuracy: 0.9929 - val_loss: 0.0610 - val_accuracy: 0.9900\n",
      "Epoch 50/50\n",
      "735/735 [==============================] - 68s 92ms/step - loss: 0.0247 - accuracy: 0.9934 - val_loss: 0.0568 - val_accuracy: 0.9906\n"
     ]
    }
   ],
   "source": [
    "#Entrainer le model\n",
    "history = model.fit(\n",
    "    X_train, y_train,\n",
    "    validation_split=0.2,\n",
    "    batch_size=32,\n",
    "    epochs=50,\n",
    "    callbacks=[early_stopping]\n",
    ")"
   ]
  },
  {
   "cell_type": "code",
   "execution_count": 249,
   "id": "af39e818",
   "metadata": {},
   "outputs": [],
   "source": [
    "# load model \n",
    "import pickle\n",
    "import streamlit as st\n",
    "model.save(\"model_final.h5\")"
   ]
  },
  {
   "cell_type": "code",
   "execution_count": 95,
   "id": "f03a64c8",
   "metadata": {},
   "outputs": [
    {
     "data": {
      "image/png": "[encoded data removed]",
      "text/plain": [
       "<Figure size 432x288 with 1 Axes>"
      ]
     },
     "metadata": {
      "needs_background": "light"
     },
     "output_type": "display_data"
    }
   ],
   "source": [
    "plt.plot(history.history['accuracy'], label='accuracy')\n",
    "plt.plot(history.history['val_accuracy'], label = 'val_accuracy')\n",
    "plt.xlabel('Epoch')\n",
    "plt.ylabel('Accuracy')\n",
    "plt.ylim([0.5, 1])\n",
    "plt.legend(loc='lower right')\n",
    "plt.text(early_stopping.stopped_epoch, history.history['val_accuracy'][-1], str(round(history.history['val_accuracy'][-1],2)))\n",
    "plt.show()"
   ]
  },
  {
   "cell_type": "code",
   "execution_count": 96,
   "id": "c61851f1",
   "metadata": {},
   "outputs": [
    {
     "data": {
      "image/png": "[encoded data removed]",
      "text/plain": [
       "<Figure size 432x288 with 1 Axes>"
      ]
     },
     "metadata": {
      "needs_background": "light"
     },
     "output_type": "display_data"
    }
   ],
   "source": [
    "# summarize history for loss\n",
    "plt.plot(history.history['loss'])\n",
    "plt.plot(history.history['val_loss'])\n",
    "plt.title('model loss')\n",
    "plt.ylabel('loss')\n",
    "plt.xlabel('epoch')\n",
    "plt.legend(['train', 'test'], loc='upper left')\n",
    "plt.text(early_stopping.stopped_epoch, history.history['val_loss'][-1], str(round(history.history['val_loss'][-1],2)))\n",
    "plt.show()"
   ]
  },
  {
   "cell_type": "code",
   "execution_count": 106,
   "id": "617622cb",
   "metadata": {},
   "outputs": [],
   "source": [
    "y_pred = model.predict(X_test)"
   ]
  },
  {
   "cell_type": "code",
   "execution_count": 135,
   "id": "86757022",
   "metadata": {},
   "outputs": [
    {
     "name": "stdout",
     "output_type": "stream",
     "text": [
      "[7 6 7 ... 9 6 1]\n",
      "37627    7\n",
      "3854     6\n",
      "4086     7\n",
      "7295     8\n",
      "20108    0\n",
      "        ..\n",
      "34892    1\n",
      "34340    1\n",
      "15737    9\n",
      "23341    6\n",
      "35164    1\n",
      "Name: label, Length: 12600, dtype: int64\n"
     ]
    }
   ],
   "source": [
    "predictions = model.predict(X_test)\n",
    "pred = np.argmax(predictions, axis=1)\n",
    "print(pred)\n",
    "print(y_test)"
   ]
  },
  {
   "cell_type": "code",
   "execution_count": 129,
   "id": "1ca374a4",
   "metadata": {},
   "outputs": [],
   "source": [
    "X_tes = [np.reshape(a/255, (28, 28)) for a in X_test.values]"
   ]
  },
  {
   "cell_type": "code",
   "execution_count": 138,
   "id": "0d5d92d3",
   "metadata": {},
   "outputs": [
    {
     "data": {
      "image/png": "[encoded data removed]",
      "text/plain": [
       "<Figure size 360x72 with 10 Axes>"
      ]
     },
     "metadata": {},
     "output_type": "display_data"
    }
   ],
   "source": [
    "#X_tes = [np.reshape(a/255, (28, 28)) for a in X_test.values]\n",
    "\n",
    "plt.figure(figsize=(5,1))\n",
    "for i in range(10):\n",
    "    plt.subplot(1,10,i+1)\n",
    "    plt.xticks([])\n",
    "    plt.yticks([])\n",
    "    plt.grid(False)\n",
    "    plt.imshow(X_tes[i], cmap='gray')\n",
    "    plt.xlabel(str(f\"{pred[i]}\"))\n",
    "plt.show();"
   ]
  },
  {
   "cell_type": "code",
   "execution_count": 139,
   "id": "b7102fe5",
   "metadata": {},
   "outputs": [],
   "source": [
    "# load model \n",
    "import pickle\n",
    "import streamlit as st\n",
    "model.save(\"modelD.h5\")"
   ]
  },
  {
   "cell_type": "markdown",
   "id": "39ff4c17",
   "metadata": {},
   "source": [
    "# Transfert Learning"
   ]
  },
  {
   "cell_type": "code",
   "execution_count": 220,
   "id": "dc77b29c",
   "metadata": {},
   "outputs": [],
   "source": [
    "#df transfert learning \n",
    "df = df_raw.copy()"
   ]
  },
  {
   "cell_type": "markdown",
   "id": "fc124271",
   "metadata": {},
   "source": [
    "### Télécharger un model entrainé VGG16"
   ]
  },
  {
   "cell_type": "code",
   "execution_count": 221,
   "id": "11204183",
   "metadata": {},
   "outputs": [],
   "source": [
    "IMG_SIZE = (32, 32, 3)"
   ]
  },
  {
   "cell_type": "code",
   "execution_count": 222,
   "id": "732a03a9",
   "metadata": {},
   "outputs": [
    {
     "name": "stdout",
     "output_type": "stream",
     "text": [
      "Model: \"vgg16\"\n",
      "_________________________________________________________________\n",
      " Layer (type)                Output Shape              Param #   \n",
      "=================================================================\n",
      " input_3 (InputLayer)        [(None, 32, 32, 3)]       0         \n",
      "                                                                 \n",
      " block1_conv1 (Conv2D)       (None, 32, 32, 64)        1792      \n",
      "                                                                 \n",
      " block1_conv2 (Conv2D)       (None, 32, 32, 64)        36928     \n",
      "                                                                 \n",
      " block1_pool (MaxPooling2D)  (None, 16, 16, 64)        0         \n",
      "                                                                 \n",
      " block2_conv1 (Conv2D)       (None, 16, 16, 128)       73856     \n",
      "                                                                 \n",
      " block2_conv2 (Conv2D)       (None, 16, 16, 128)       147584    \n",
      "                                                                 \n",
      " block2_pool (MaxPooling2D)  (None, 8, 8, 128)         0         \n",
      "                                                                 \n",
      " block3_conv1 (Conv2D)       (None, 8, 8, 256)         295168    \n",
      "                                                                 \n",
      " block3_conv2 (Conv2D)       (None, 8, 8, 256)         590080    \n",
      "                                                                 \n",
      " block3_conv3 (Conv2D)       (None, 8, 8, 256)         590080    \n",
      "                                                                 \n",
      " block3_pool (MaxPooling2D)  (None, 4, 4, 256)         0         \n",
      "                                                                 \n",
      " block4_conv1 (Conv2D)       (None, 4, 4, 512)         1180160   \n",
      "                                                                 \n",
      " block4_conv2 (Conv2D)       (None, 4, 4, 512)         2359808   \n",
      "                                                                 \n",
      " block4_conv3 (Conv2D)       (None, 4, 4, 512)         2359808   \n",
      "                                                                 \n",
      " block4_pool (MaxPooling2D)  (None, 2, 2, 512)         0         \n",
      "                                                                 \n",
      " block5_conv1 (Conv2D)       (None, 2, 2, 512)         2359808   \n",
      "                                                                 \n",
      " block5_conv2 (Conv2D)       (None, 2, 2, 512)         2359808   \n",
      "                                                                 \n",
      " block5_conv3 (Conv2D)       (None, 2, 2, 512)         2359808   \n",
      "                                                                 \n",
      " block5_pool (MaxPooling2D)  (None, 1, 1, 512)         0         \n",
      "                                                                 \n",
      "=================================================================\n",
      "Total params: 14,714,688\n",
      "Trainable params: 14,714,688\n",
      "Non-trainable params: 0\n",
      "_________________________________________________________________\n"
     ]
    }
   ],
   "source": [
    "# include top should be False to remove the softmax layer\n",
    "pretrained_model = VGG16(include_top=False, input_shape = IMG_SIZE , weights='imagenet')\n",
    "pretrained_model.summary()"
   ]
  },
  {
   "cell_type": "code",
   "execution_count": 224,
   "id": "152acda6",
   "metadata": {},
   "outputs": [],
   "source": [
    "#Précisier que le model ne s'entraine pas \n",
    "pretrained_model.trainable = False"
   ]
  },
  {
   "cell_type": "code",
   "execution_count": 225,
   "id": "26f99b9c",
   "metadata": {},
   "outputs": [
    {
     "name": "stdout",
     "output_type": "stream",
     "text": [
      "Model: \"vgg16\"\n",
      "_________________________________________________________________\n",
      " Layer (type)                Output Shape              Param #   \n",
      "=================================================================\n",
      " input_3 (InputLayer)        [(None, 32, 32, 3)]       0         \n",
      "                                                                 \n",
      " block1_conv1 (Conv2D)       (None, 32, 32, 64)        1792      \n",
      "                                                                 \n",
      " block1_conv2 (Conv2D)       (None, 32, 32, 64)        36928     \n",
      "                                                                 \n",
      " block1_pool (MaxPooling2D)  (None, 16, 16, 64)        0         \n",
      "                                                                 \n",
      " block2_conv1 (Conv2D)       (None, 16, 16, 128)       73856     \n",
      "                                                                 \n",
      " block2_conv2 (Conv2D)       (None, 16, 16, 128)       147584    \n",
      "                                                                 \n",
      " block2_pool (MaxPooling2D)  (None, 8, 8, 128)         0         \n",
      "                                                                 \n",
      " block3_conv1 (Conv2D)       (None, 8, 8, 256)         295168    \n",
      "                                                                 \n",
      " block3_conv2 (Conv2D)       (None, 8, 8, 256)         590080    \n",
      "                                                                 \n",
      " block3_conv3 (Conv2D)       (None, 8, 8, 256)         590080    \n",
      "                                                                 \n",
      " block3_pool (MaxPooling2D)  (None, 4, 4, 256)         0         \n",
      "                                                                 \n",
      " block4_conv1 (Conv2D)       (None, 4, 4, 512)         1180160   \n",
      "                                                                 \n",
      " block4_conv2 (Conv2D)       (None, 4, 4, 512)         2359808   \n",
      "                                                                 \n",
      " block4_conv3 (Conv2D)       (None, 4, 4, 512)         2359808   \n",
      "                                                                 \n",
      " block4_pool (MaxPooling2D)  (None, 2, 2, 512)         0         \n",
      "                                                                 \n",
      " block5_conv1 (Conv2D)       (None, 2, 2, 512)         2359808   \n",
      "                                                                 \n",
      " block5_conv2 (Conv2D)       (None, 2, 2, 512)         2359808   \n",
      "                                                                 \n",
      " block5_conv3 (Conv2D)       (None, 2, 2, 512)         2359808   \n",
      "                                                                 \n",
      " block5_pool (MaxPooling2D)  (None, 1, 1, 512)         0         \n",
      "                                                                 \n",
      "=================================================================\n",
      "Total params: 14,714,688\n",
      "Trainable params: 0\n",
      "Non-trainable params: 14,714,688\n",
      "_________________________________________________________________\n"
     ]
    }
   ],
   "source": [
    "pretrained_model.summary()"
   ]
  },
  {
   "cell_type": "markdown",
   "id": "78a19114",
   "metadata": {},
   "source": [
    "### Processing et changement de la shape en 32,32, 3"
   ]
  },
  {
   "cell_type": "code",
   "execution_count": null,
   "id": "a47aaa90",
   "metadata": {},
   "outputs": [],
   "source": [
    "# df = df_raw.copy()\n",
    "\n",
    "# y1 = np.array(df.iloc[:,0].values)\n",
    "# x1 = np.array(df.iloc[:,1:].values)\n",
    "\n",
    "# x1 = x1/255\n",
    "# #Reshape\n",
    "# nb_image = x1.shape[0]\n",
    "# h = 28\n",
    "# L = 28\n",
    "# train_image = h*L\n",
    "# x1 = x1.reshape(nb_image, L, h, 1)\n",
    "# #adding categorical \n",
    "# y1 = tf.keras.utils.to_categorical(y1, 10)\n",
    "\n",
    "# # Splitting the data\n",
    "# X_train, X_test, y_train, y_test = train_test_split(x1, y1, test_size=.3, random_state=1, stratify=y)\n",
    "\n",
    "# input_shape = X_train.shape[1:]\n",
    "# input_shape\n",
    "\n",
    "# print(X_train.shape)\n",
    "# print(y_train.shape)"
   ]
  },
  {
   "cell_type": "code",
   "execution_count": 226,
   "id": "afe0dc8d",
   "metadata": {},
   "outputs": [],
   "source": [
    "y1 = np.array(df.iloc[:,0].values)\n",
    "x1 = np.array(df.iloc[:,1:].values)\n",
    "\n",
    "x1 = x1/255\n",
    "\n",
    "#Reshape\n",
    "nb_image = x1.shape[0]\n",
    "h = 28\n",
    "L = 28\n",
    "train_image = h*L\n",
    "x1 = x1.reshape(nb_image, L, h, 1)\n",
    "\n",
    "#adding categorical \n",
    "y1 = tf.keras.utils.to_categorical(y1, 10)"
   ]
  },
  {
   "cell_type": "code",
   "execution_count": 227,
   "id": "f00d52ca",
   "metadata": {},
   "outputs": [],
   "source": [
    "#Changement de shape channel 3 \n",
    "original_x = tf.constant(x1)\n",
    "converted_x = tf.image.grayscale_to_rgb(original_x)"
   ]
  },
  {
   "cell_type": "code",
   "execution_count": 228,
   "id": "4c579408",
   "metadata": {},
   "outputs": [
    {
     "data": {
      "text/plain": [
       "<tf.Tensor: shape=(42000, 28, 28, 3), dtype=float64, numpy=\n",
       "array([[[[0., 0., 0.],\n",
       "         [0., 0., 0.],\n",
       "         [0., 0., 0.],\n",
       "         ...,\n",
       "         [0., 0., 0.],\n",
       "         [0., 0., 0.],\n",
       "         [0., 0., 0.]],\n",
       "\n",
       "        [[0., 0., 0.],\n",
       "         [0., 0., 0.],\n",
       "         [0., 0., 0.],\n",
       "         ...,\n",
       "         [0., 0., 0.],\n",
       "         [0., 0., 0.],\n",
       "         [0., 0., 0.]],\n",
       "\n",
       "        [[0., 0., 0.],\n",
       "         [0., 0., 0.],\n",
       "         [0., 0., 0.],\n",
       "         ...,\n",
       "         [0., 0., 0.],\n",
       "         [0., 0., 0.],\n",
       "         [0., 0., 0.]],\n",
       "\n",
       "        ...,\n",
       "\n",
       "        [[0., 0., 0.],\n",
       "         [0., 0., 0.],\n",
       "         [0., 0., 0.],\n",
       "         ...,\n",
       "         [0., 0., 0.],\n",
       "         [0., 0., 0.],\n",
       "         [0., 0., 0.]],\n",
       "\n",
       "        [[0., 0., 0.],\n",
       "         [0., 0., 0.],\n",
       "         [0., 0., 0.],\n",
       "         ...,\n",
       "         [0., 0., 0.],\n",
       "         [0., 0., 0.],\n",
       "         [0., 0., 0.]],\n",
       "\n",
       "        [[0., 0., 0.],\n",
       "         [0., 0., 0.],\n",
       "         [0., 0., 0.],\n",
       "         ...,\n",
       "         [0., 0., 0.],\n",
       "         [0., 0., 0.],\n",
       "         [0., 0., 0.]]],\n",
       "\n",
       "\n",
       "       [[[0., 0., 0.],\n",
       "         [0., 0., 0.],\n",
       "         [0., 0., 0.],\n",
       "         ...,\n",
       "         [0., 0., 0.],\n",
       "         [0., 0., 0.],\n",
       "         [0., 0., 0.]],\n",
       "\n",
       "        [[0., 0., 0.],\n",
       "         [0., 0., 0.],\n",
       "         [0., 0., 0.],\n",
       "         ...,\n",
       "         [0., 0., 0.],\n",
       "         [0., 0., 0.],\n",
       "         [0., 0., 0.]],\n",
       "\n",
       "        [[0., 0., 0.],\n",
       "         [0., 0., 0.],\n",
       "         [0., 0., 0.],\n",
       "         ...,\n",
       "         [0., 0., 0.],\n",
       "         [0., 0., 0.],\n",
       "         [0., 0., 0.]],\n",
       "\n",
       "        ...,\n",
       "\n",
       "        [[0., 0., 0.],\n",
       "         [0., 0., 0.],\n",
       "         [0., 0., 0.],\n",
       "         ...,\n",
       "         [0., 0., 0.],\n",
       "         [0., 0., 0.],\n",
       "         [0., 0., 0.]],\n",
       "\n",
       "        [[0., 0., 0.],\n",
       "         [0., 0., 0.],\n",
       "         [0., 0., 0.],\n",
       "         ...,\n",
       "         [0., 0., 0.],\n",
       "         [0., 0., 0.],\n",
       "         [0., 0., 0.]],\n",
       "\n",
       "        [[0., 0., 0.],\n",
       "         [0., 0., 0.],\n",
       "         [0., 0., 0.],\n",
       "         ...,\n",
       "         [0., 0., 0.],\n",
       "         [0., 0., 0.],\n",
       "         [0., 0., 0.]]],\n",
       "\n",
       "\n",
       "       [[[0., 0., 0.],\n",
       "         [0., 0., 0.],\n",
       "         [0., 0., 0.],\n",
       "         ...,\n",
       "         [0., 0., 0.],\n",
       "         [0., 0., 0.],\n",
       "         [0., 0., 0.]],\n",
       "\n",
       "        [[0., 0., 0.],\n",
       "         [0., 0., 0.],\n",
       "         [0., 0., 0.],\n",
       "         ...,\n",
       "         [0., 0., 0.],\n",
       "         [0., 0., 0.],\n",
       "         [0., 0., 0.]],\n",
       "\n",
       "        [[0., 0., 0.],\n",
       "         [0., 0., 0.],\n",
       "         [0., 0., 0.],\n",
       "         ...,\n",
       "         [0., 0., 0.],\n",
       "         [0., 0., 0.],\n",
       "         [0., 0., 0.]],\n",
       "\n",
       "        ...,\n",
       "\n",
       "        [[0., 0., 0.],\n",
       "         [0., 0., 0.],\n",
       "         [0., 0., 0.],\n",
       "         ...,\n",
       "         [0., 0., 0.],\n",
       "         [0., 0., 0.],\n",
       "         [0., 0., 0.]],\n",
       "\n",
       "        [[0., 0., 0.],\n",
       "         [0., 0., 0.],\n",
       "         [0., 0., 0.],\n",
       "         ...,\n",
       "         [0., 0., 0.],\n",
       "         [0., 0., 0.],\n",
       "         [0., 0., 0.]],\n",
       "\n",
       "        [[0., 0., 0.],\n",
       "         [0., 0., 0.],\n",
       "         [0., 0., 0.],\n",
       "         ...,\n",
       "         [0., 0., 0.],\n",
       "         [0., 0., 0.],\n",
       "         [0., 0., 0.]]],\n",
       "\n",
       "\n",
       "       ...,\n",
       "\n",
       "\n",
       "       [[[0., 0., 0.],\n",
       "         [0., 0., 0.],\n",
       "         [0., 0., 0.],\n",
       "         ...,\n",
       "         [0., 0., 0.],\n",
       "         [0., 0., 0.],\n",
       "         [0., 0., 0.]],\n",
       "\n",
       "        [[0., 0., 0.],\n",
       "         [0., 0., 0.],\n",
       "         [0., 0., 0.],\n",
       "         ...,\n",
       "         [0., 0., 0.],\n",
       "         [0., 0., 0.],\n",
       "         [0., 0., 0.]],\n",
       "\n",
       "        [[0., 0., 0.],\n",
       "         [0., 0., 0.],\n",
       "         [0., 0., 0.],\n",
       "         ...,\n",
       "         [0., 0., 0.],\n",
       "         [0., 0., 0.],\n",
       "         [0., 0., 0.]],\n",
       "\n",
       "        ...,\n",
       "\n",
       "        [[0., 0., 0.],\n",
       "         [0., 0., 0.],\n",
       "         [0., 0., 0.],\n",
       "         ...,\n",
       "         [0., 0., 0.],\n",
       "         [0., 0., 0.],\n",
       "         [0., 0., 0.]],\n",
       "\n",
       "        [[0., 0., 0.],\n",
       "         [0., 0., 0.],\n",
       "         [0., 0., 0.],\n",
       "         ...,\n",
       "         [0., 0., 0.],\n",
       "         [0., 0., 0.],\n",
       "         [0., 0., 0.]],\n",
       "\n",
       "        [[0., 0., 0.],\n",
       "         [0., 0., 0.],\n",
       "         [0., 0., 0.],\n",
       "         ...,\n",
       "         [0., 0., 0.],\n",
       "         [0., 0., 0.],\n",
       "         [0., 0., 0.]]],\n",
       "\n",
       "\n",
       "       [[[0., 0., 0.],\n",
       "         [0., 0., 0.],\n",
       "         [0., 0., 0.],\n",
       "         ...,\n",
       "         [0., 0., 0.],\n",
       "         [0., 0., 0.],\n",
       "         [0., 0., 0.]],\n",
       "\n",
       "        [[0., 0., 0.],\n",
       "         [0., 0., 0.],\n",
       "         [0., 0., 0.],\n",
       "         ...,\n",
       "         [0., 0., 0.],\n",
       "         [0., 0., 0.],\n",
       "         [0., 0., 0.]],\n",
       "\n",
       "        [[0., 0., 0.],\n",
       "         [0., 0., 0.],\n",
       "         [0., 0., 0.],\n",
       "         ...,\n",
       "         [0., 0., 0.],\n",
       "         [0., 0., 0.],\n",
       "         [0., 0., 0.]],\n",
       "\n",
       "        ...,\n",
       "\n",
       "        [[0., 0., 0.],\n",
       "         [0., 0., 0.],\n",
       "         [0., 0., 0.],\n",
       "         ...,\n",
       "         [0., 0., 0.],\n",
       "         [0., 0., 0.],\n",
       "         [0., 0., 0.]],\n",
       "\n",
       "        [[0., 0., 0.],\n",
       "         [0., 0., 0.],\n",
       "         [0., 0., 0.],\n",
       "         ...,\n",
       "         [0., 0., 0.],\n",
       "         [0., 0., 0.],\n",
       "         [0., 0., 0.]],\n",
       "\n",
       "        [[0., 0., 0.],\n",
       "         [0., 0., 0.],\n",
       "         [0., 0., 0.],\n",
       "         ...,\n",
       "         [0., 0., 0.],\n",
       "         [0., 0., 0.],\n",
       "         [0., 0., 0.]]],\n",
       "\n",
       "\n",
       "       [[[0., 0., 0.],\n",
       "         [0., 0., 0.],\n",
       "         [0., 0., 0.],\n",
       "         ...,\n",
       "         [0., 0., 0.],\n",
       "         [0., 0., 0.],\n",
       "         [0., 0., 0.]],\n",
       "\n",
       "        [[0., 0., 0.],\n",
       "         [0., 0., 0.],\n",
       "         [0., 0., 0.],\n",
       "         ...,\n",
       "         [0., 0., 0.],\n",
       "         [0., 0., 0.],\n",
       "         [0., 0., 0.]],\n",
       "\n",
       "        [[0., 0., 0.],\n",
       "         [0., 0., 0.],\n",
       "         [0., 0., 0.],\n",
       "         ...,\n",
       "         [0., 0., 0.],\n",
       "         [0., 0., 0.],\n",
       "         [0., 0., 0.]],\n",
       "\n",
       "        ...,\n",
       "\n",
       "        [[0., 0., 0.],\n",
       "         [0., 0., 0.],\n",
       "         [0., 0., 0.],\n",
       "         ...,\n",
       "         [0., 0., 0.],\n",
       "         [0., 0., 0.],\n",
       "         [0., 0., 0.]],\n",
       "\n",
       "        [[0., 0., 0.],\n",
       "         [0., 0., 0.],\n",
       "         [0., 0., 0.],\n",
       "         ...,\n",
       "         [0., 0., 0.],\n",
       "         [0., 0., 0.],\n",
       "         [0., 0., 0.]],\n",
       "\n",
       "        [[0., 0., 0.],\n",
       "         [0., 0., 0.],\n",
       "         [0., 0., 0.],\n",
       "         ...,\n",
       "         [0., 0., 0.],\n",
       "         [0., 0., 0.],\n",
       "         [0., 0., 0.]]]])>"
      ]
     },
     "execution_count": 228,
     "metadata": {},
     "output_type": "execute_result"
    }
   ],
   "source": [
    "#RGB\n",
    "converted_x"
   ]
  },
  {
   "cell_type": "code",
   "execution_count": 229,
   "id": "26aab610",
   "metadata": {},
   "outputs": [
    {
     "data": {
      "text/plain": [
       "TensorShape([42000, 28, 28, 3])"
      ]
     },
     "execution_count": 229,
     "metadata": {},
     "output_type": "execute_result"
    }
   ],
   "source": [
    "converted_x.shape"
   ]
  },
  {
   "cell_type": "code",
   "execution_count": 230,
   "id": "d691b7c6",
   "metadata": {},
   "outputs": [],
   "source": [
    "#Conversion en numpy\n",
    "converted_x_np = converted_x.numpy()"
   ]
  },
  {
   "cell_type": "code",
   "execution_count": 231,
   "id": "d21227d1",
   "metadata": {},
   "outputs": [],
   "source": [
    "#Changement de dimension en 32, 32, 3\n",
    "\n",
    "images = []\n",
    "\n",
    "for i in range (len(converted_x_np)):\n",
    "    im = converted_x_np[i]\n",
    "    im = cv2.resize(im, dsize = (32, 32)) # resize image to match model 's expected sizing\n",
    "    im = im.reshape(32, 32, 3) #\n",
    "    images.append(im)\n",
    "    "
   ]
  },
  {
   "cell_type": "code",
   "execution_count": 232,
   "id": "15658b30",
   "metadata": {},
   "outputs": [
    {
     "data": {
      "text/plain": [
       "(32, 32, 3)"
      ]
     },
     "execution_count": 232,
     "metadata": {},
     "output_type": "execute_result"
    }
   ],
   "source": [
    "#vérification shape\n",
    "images[3].shape"
   ]
  },
  {
   "cell_type": "code",
   "execution_count": 233,
   "id": "3408cd13",
   "metadata": {},
   "outputs": [
    {
     "data": {
      "text/plain": [
       "numpy.ndarray"
      ]
     },
     "execution_count": 233,
     "metadata": {},
     "output_type": "execute_result"
    }
   ],
   "source": [
    "#conversion en numpy\n",
    "images_np = np.array(images)\n",
    "type(images_np)"
   ]
  },
  {
   "cell_type": "code",
   "execution_count": 206,
   "id": "bf259d9c",
   "metadata": {},
   "outputs": [
    {
     "data": {
      "text/plain": [
       "(42000, 32, 32, 3)"
      ]
     },
     "execution_count": 206,
     "metadata": {},
     "output_type": "execute_result"
    }
   ],
   "source": [
    "images_np.shape"
   ]
  },
  {
   "cell_type": "code",
   "execution_count": 234,
   "id": "1db6e3c1",
   "metadata": {},
   "outputs": [],
   "source": [
    "# Splitting the data\n",
    "X_train, X_test, y_train, y_test = train_test_split(images_np, y1, test_size=.3, random_state=1, stratify=y)"
   ]
  },
  {
   "cell_type": "markdown",
   "id": "b0422278",
   "metadata": {},
   "source": [
    "### Model combiné "
   ]
  },
  {
   "cell_type": "code",
   "execution_count": 235,
   "id": "dc30d18b",
   "metadata": {},
   "outputs": [],
   "source": [
    "model = keras.Sequential([\n",
    "    pretrained_model,\n",
    "    layers.Flatten(),\n",
    "    layers.Dense(6, activation='relu'),\n",
    "    layers.Dense(10, activation= tf.nn.softmax),\n",
    "])"
   ]
  },
  {
   "cell_type": "code",
   "execution_count": 236,
   "id": "449a7376",
   "metadata": {},
   "outputs": [],
   "source": [
    "model.compile(optimizer = 'adam',\n",
    "              loss = 'categorical_crossentropy',\n",
    "              metrics=['accuracy'])"
   ]
  },
  {
   "cell_type": "code",
   "execution_count": 237,
   "id": "d14b095c",
   "metadata": {},
   "outputs": [],
   "source": [
    "early_stopping = callbacks.EarlyStopping(\n",
    "    min_delta=0.001, # minimium amount of change to count as an improvement\n",
    "    patience=20, # how many epochs to wait before stopping\n",
    "    restore_best_weights=True,\n",
    ")"
   ]
  },
  {
   "cell_type": "code",
   "execution_count": 216,
   "id": "ce228b60",
   "metadata": {},
   "outputs": [
    {
     "name": "stdout",
     "output_type": "stream",
     "text": [
      "Epoch 1/50\n",
      "735/735 [==============================] - 192s 260ms/step - loss: 1.8901 - accuracy: 0.2860 - val_loss: 1.5974 - val_accuracy: 0.4372\n",
      "Epoch 2/50\n",
      "735/735 [==============================] - 188s 256ms/step - loss: 1.4512 - accuracy: 0.5041 - val_loss: 1.3502 - val_accuracy: 0.5410\n",
      "Epoch 3/50\n",
      "735/735 [==============================] - 191s 260ms/step - loss: 1.2515 - accuracy: 0.5741 - val_loss: 1.1908 - val_accuracy: 0.5949\n",
      "Epoch 4/50\n",
      "735/735 [==============================] - 188s 256ms/step - loss: 1.1251 - accuracy: 0.6211 - val_loss: 1.0897 - val_accuracy: 0.6389\n",
      "Epoch 5/50\n",
      "735/735 [==============================] - 185s 252ms/step - loss: 1.0361 - accuracy: 0.6609 - val_loss: 1.0193 - val_accuracy: 0.6629\n",
      "Epoch 6/50\n",
      "735/735 [==============================] - 187s 255ms/step - loss: 0.9696 - accuracy: 0.6874 - val_loss: 0.9642 - val_accuracy: 0.6864\n",
      "Epoch 7/50\n",
      "735/735 [==============================] - 187s 255ms/step - loss: 0.9181 - accuracy: 0.7084 - val_loss: 0.9142 - val_accuracy: 0.7094\n",
      "Epoch 8/50\n",
      "735/735 [==============================] - 187s 255ms/step - loss: 0.8764 - accuracy: 0.7239 - val_loss: 0.8779 - val_accuracy: 0.7190\n",
      "Epoch 9/50\n",
      "735/735 [==============================] - 189s 257ms/step - loss: 0.8401 - accuracy: 0.7390 - val_loss: 0.8456 - val_accuracy: 0.7270\n",
      "Epoch 10/50\n",
      "735/735 [==============================] - 187s 254ms/step - loss: 0.8106 - accuracy: 0.7488 - val_loss: 0.8219 - val_accuracy: 0.7451\n",
      "Epoch 11/50\n",
      "735/735 [==============================] - 188s 256ms/step - loss: 0.7856 - accuracy: 0.7583 - val_loss: 0.7970 - val_accuracy: 0.7536\n",
      "Epoch 12/50\n",
      "735/735 [==============================] - 187s 255ms/step - loss: 0.7650 - accuracy: 0.7649 - val_loss: 0.7834 - val_accuracy: 0.7543\n",
      "Epoch 13/50\n",
      "735/735 [==============================] - 187s 254ms/step - loss: 0.7458 - accuracy: 0.7716 - val_loss: 0.7825 - val_accuracy: 0.7543\n",
      "Epoch 14/50\n",
      "735/735 [==============================] - 187s 255ms/step - loss: 0.7294 - accuracy: 0.7765 - val_loss: 0.7455 - val_accuracy: 0.7724\n",
      "Epoch 15/50\n",
      "735/735 [==============================] - 187s 255ms/step - loss: 0.7150 - accuracy: 0.7818 - val_loss: 0.7316 - val_accuracy: 0.7762\n",
      "Epoch 16/50\n",
      "735/735 [==============================] - 185s 251ms/step - loss: 0.7023 - accuracy: 0.7857 - val_loss: 0.7221 - val_accuracy: 0.7804\n",
      "Epoch 17/50\n",
      "735/735 [==============================] - 187s 255ms/step - loss: 0.6909 - accuracy: 0.7899 - val_loss: 0.7118 - val_accuracy: 0.7806\n",
      "Epoch 18/50\n",
      "735/735 [==============================] - 188s 255ms/step - loss: 0.6803 - accuracy: 0.7940 - val_loss: 0.7024 - val_accuracy: 0.7832\n",
      "Epoch 19/50\n",
      "735/735 [==============================] - 188s 255ms/step - loss: 0.6699 - accuracy: 0.7973 - val_loss: 0.6902 - val_accuracy: 0.7879\n",
      "Epoch 20/50\n",
      "735/735 [==============================] - 187s 255ms/step - loss: 0.6623 - accuracy: 0.7976 - val_loss: 0.6883 - val_accuracy: 0.7876\n",
      "Epoch 21/50\n",
      "735/735 [==============================] - 189s 257ms/step - loss: 0.6532 - accuracy: 0.8011 - val_loss: 0.6741 - val_accuracy: 0.7951\n",
      "Epoch 22/50\n",
      "735/735 [==============================] - 188s 256ms/step - loss: 0.6462 - accuracy: 0.8036 - val_loss: 0.6676 - val_accuracy: 0.7963\n",
      "Epoch 23/50\n",
      "735/735 [==============================] - 188s 256ms/step - loss: 0.6397 - accuracy: 0.8077 - val_loss: 0.6621 - val_accuracy: 0.7995\n",
      "Epoch 24/50\n",
      "735/735 [==============================] - 189s 257ms/step - loss: 0.6330 - accuracy: 0.8088 - val_loss: 0.6555 - val_accuracy: 0.7998\n",
      "Epoch 25/50\n",
      "735/735 [==============================] - 189s 257ms/step - loss: 0.6276 - accuracy: 0.8113 - val_loss: 0.6524 - val_accuracy: 0.8019\n",
      "Epoch 26/50\n",
      "735/735 [==============================] - 188s 256ms/step - loss: 0.6215 - accuracy: 0.8130 - val_loss: 0.6462 - val_accuracy: 0.8037\n",
      "Epoch 27/50\n",
      "735/735 [==============================] - 188s 256ms/step - loss: 0.6169 - accuracy: 0.8151 - val_loss: 0.6450 - val_accuracy: 0.8031\n",
      "Epoch 28/50\n",
      "735/735 [==============================] - 188s 256ms/step - loss: 0.6117 - accuracy: 0.8176 - val_loss: 0.6360 - val_accuracy: 0.8090\n",
      "Epoch 29/50\n",
      "735/735 [==============================] - 187s 254ms/step - loss: 0.6084 - accuracy: 0.8197 - val_loss: 0.6308 - val_accuracy: 0.8094\n",
      "Epoch 30/50\n",
      "735/735 [==============================] - 188s 256ms/step - loss: 0.6028 - accuracy: 0.8209 - val_loss: 0.6288 - val_accuracy: 0.8077\n",
      "Epoch 31/50\n",
      "735/735 [==============================] - 188s 256ms/step - loss: 0.5989 - accuracy: 0.8224 - val_loss: 0.6248 - val_accuracy: 0.8094\n",
      "Epoch 32/50\n",
      "735/735 [==============================] - 188s 256ms/step - loss: 0.5944 - accuracy: 0.8235 - val_loss: 0.6254 - val_accuracy: 0.8121\n",
      "Epoch 33/50\n",
      "735/735 [==============================] - 184s 250ms/step - loss: 0.5906 - accuracy: 0.8242 - val_loss: 0.6184 - val_accuracy: 0.8124\n",
      "Epoch 34/50\n",
      "735/735 [==============================] - 185s 252ms/step - loss: 0.5878 - accuracy: 0.8259 - val_loss: 0.6193 - val_accuracy: 0.8097\n",
      "Epoch 35/50\n",
      "735/735 [==============================] - 189s 257ms/step - loss: 0.5842 - accuracy: 0.8269 - val_loss: 0.6121 - val_accuracy: 0.8190\n",
      "Epoch 36/50\n",
      "735/735 [==============================] - 192s 262ms/step - loss: 0.5819 - accuracy: 0.8280 - val_loss: 0.6066 - val_accuracy: 0.8172\n",
      "Epoch 37/50\n",
      "735/735 [==============================] - 189s 257ms/step - loss: 0.5781 - accuracy: 0.8290 - val_loss: 0.6112 - val_accuracy: 0.8194\n",
      "Epoch 38/50\n",
      "735/735 [==============================] - 191s 259ms/step - loss: 0.5738 - accuracy: 0.8290 - val_loss: 0.6012 - val_accuracy: 0.8209\n",
      "Epoch 39/50\n",
      "735/735 [==============================] - 189s 257ms/step - loss: 0.5725 - accuracy: 0.8301 - val_loss: 0.6000 - val_accuracy: 0.8223\n",
      "Epoch 40/50\n",
      "735/735 [==============================] - 188s 256ms/step - loss: 0.5698 - accuracy: 0.8319 - val_loss: 0.5983 - val_accuracy: 0.8206\n",
      "Epoch 41/50\n",
      "735/735 [==============================] - 188s 256ms/step - loss: 0.5675 - accuracy: 0.8329 - val_loss: 0.5946 - val_accuracy: 0.8224\n",
      "Epoch 42/50\n",
      "735/735 [==============================] - 188s 256ms/step - loss: 0.5650 - accuracy: 0.8335 - val_loss: 0.6078 - val_accuracy: 0.8148\n",
      "Epoch 43/50\n",
      "735/735 [==============================] - 190s 258ms/step - loss: 0.5628 - accuracy: 0.8332 - val_loss: 0.5891 - val_accuracy: 0.8277\n",
      "Epoch 44/50\n",
      "735/735 [==============================] - 189s 257ms/step - loss: 0.5605 - accuracy: 0.8340 - val_loss: 0.5911 - val_accuracy: 0.8253\n",
      "Epoch 45/50\n",
      "735/735 [==============================] - 199s 271ms/step - loss: 0.5577 - accuracy: 0.8356 - val_loss: 0.5859 - val_accuracy: 0.8255\n",
      "Epoch 46/50\n",
      "735/735 [==============================] - 191s 260ms/step - loss: 0.5572 - accuracy: 0.8351 - val_loss: 0.5830 - val_accuracy: 0.8323\n",
      "Epoch 47/50\n",
      "735/735 [==============================] - 190s 259ms/step - loss: 0.5548 - accuracy: 0.8366 - val_loss: 0.5823 - val_accuracy: 0.8287\n",
      "Epoch 48/50\n",
      "735/735 [==============================] - 192s 262ms/step - loss: 0.5539 - accuracy: 0.8360 - val_loss: 0.5956 - val_accuracy: 0.8204\n",
      "Epoch 49/50\n",
      "735/735 [==============================] - 189s 257ms/step - loss: 0.5516 - accuracy: 0.8375 - val_loss: 0.5790 - val_accuracy: 0.8303\n",
      "Epoch 50/50\n",
      "735/735 [==============================] - 190s 259ms/step - loss: 0.5487 - accuracy: 0.8380 - val_loss: 0.5797 - val_accuracy: 0.8286\n"
     ]
    }
   ],
   "source": [
    "#Entrainer le model\n",
    "history = model.fit(\n",
    "    X_train, y_train,\n",
    "    validation_split=0.2,\n",
    "    batch_size=32,\n",
    "    epochs=50,\n",
    ")"
   ]
  },
  {
   "cell_type": "code",
   "execution_count": 217,
   "id": "50fb6cac",
   "metadata": {},
   "outputs": [
    {
     "data": {
      "image/png": "[encoded data removed]",
      "text/plain": [
       "<Figure size 432x288 with 1 Axes>"
      ]
     },
     "metadata": {
      "needs_background": "light"
     },
     "output_type": "display_data"
    }
   ],
   "source": [
    "plt.plot(history.history['accuracy'], label='accuracy')\n",
    "plt.plot(history.history['val_accuracy'], label = 'val_accuracy')\n",
    "plt.xlabel('Epoch')\n",
    "plt.ylabel('Accuracy')\n",
    "plt.ylim([0.5, 1])\n",
    "plt.legend(loc='lower right')\n",
    "plt.text(early_stopping.stopped_epoch, history.history['val_accuracy'][-1], str(round(history.history['val_accuracy'][-1],2)))\n",
    "plt.show()"
   ]
  },
  {
   "cell_type": "code",
   "execution_count": 218,
   "id": "87a7609e",
   "metadata": {},
   "outputs": [
    {
     "data": {
      "image/png": "[encoded data removed]",
      "text/plain": [
       "<Figure size 432x288 with 1 Axes>"
      ]
     },
     "metadata": {
      "needs_background": "light"
     },
     "output_type": "display_data"
    }
   ],
   "source": [
    "# summarize history for loss\n",
    "plt.plot(history.history['loss'])\n",
    "plt.plot(history.history['val_loss'])\n",
    "plt.title('model loss')\n",
    "plt.ylabel('loss')\n",
    "plt.xlabel('epoch')\n",
    "plt.legend(['train', 'test'], loc='upper left')\n",
    "plt.text(early_stopping.stopped_epoch, history.history['val_loss'][-1], str(round(history.history['val_loss'][-1],2)))\n",
    "plt.show()"
   ]
  },
  {
   "cell_type": "code",
   "execution_count": 219,
   "id": "9c662eae",
   "metadata": {},
   "outputs": [],
   "source": [
    "# load model \n",
    "import pickle\n",
    "import streamlit as st\n",
    "model.save(\"modelF.h5\")"
   ]
  },
  {
   "cell_type": "code",
   "execution_count": 250,
   "id": "83c98c92",
   "metadata": {},
   "outputs": [
    {
     "name": "stdout",
     "output_type": "stream",
     "text": [
      "INFO:tensorflow:Assets written to: models/mode\\assets\n"
     ]
    },
    {
     "name": "stderr",
     "output_type": "stream",
     "text": [
      "2021-12-09 14:29:45.423 INFO    tensorflow: Assets written to: models/mode\\assets\n"
     ]
    }
   ],
   "source": [
    "model.save('models/mode')"
   ]
  },
  {
   "cell_type": "code",
   "execution_count": 165,
   "id": "020f2ecd",
   "metadata": {},
   "outputs": [
    {
     "name": "stdout",
     "output_type": "stream",
     "text": [
      "Epoch 1/10\n",
      "735/735 [==============================] - 192s 260ms/step - loss: 1.3876 - accuracy: 0.5382 - val_loss: 0.9320 - val_accuracy: 0.6934\n",
      "Epoch 2/10\n",
      "735/735 [==============================] - 193s 263ms/step - loss: 0.7532 - accuracy: 0.7605 - val_loss: 0.6126 - val_accuracy: 0.8156\n",
      "Epoch 3/10\n",
      "735/735 [==============================] - 199s 270ms/step - loss: 0.5309 - accuracy: 0.8406 - val_loss: 0.4751 - val_accuracy: 0.8604\n",
      "Epoch 4/10\n",
      "735/735 [==============================] - 191s 260ms/step - loss: 0.4348 - accuracy: 0.8753 - val_loss: 0.4097 - val_accuracy: 0.8825\n",
      "Epoch 5/10\n",
      "735/735 [==============================] - 202s 275ms/step - loss: 0.3784 - accuracy: 0.8915 - val_loss: 0.3652 - val_accuracy: 0.8947\n",
      "Epoch 6/10\n",
      "735/735 [==============================] - 191s 260ms/step - loss: 0.3414 - accuracy: 0.9013 - val_loss: 0.3343 - val_accuracy: 0.9029\n",
      "Epoch 7/10\n",
      "735/735 [==============================] - 203s 276ms/step - loss: 0.3142 - accuracy: 0.9079 - val_loss: 0.3090 - val_accuracy: 0.9075\n",
      "Epoch 8/10\n",
      "735/735 [==============================] - 191s 260ms/step - loss: 0.2929 - accuracy: 0.9139 - val_loss: 0.2909 - val_accuracy: 0.9151\n",
      "Epoch 9/10\n",
      "735/735 [==============================] - 199s 270ms/step - loss: 0.2758 - accuracy: 0.9192 - val_loss: 0.2764 - val_accuracy: 0.9187\n",
      "Epoch 10/10\n",
      "735/735 [==============================] - 196s 267ms/step - loss: 0.2622 - accuracy: 0.9216 - val_loss: 0.2638 - val_accuracy: 0.9207\n"
     ]
    }
   ],
   "source": [
    "# #Entrainer le model\n",
    "# history = model.fit(\n",
    "#     X_train, y_train,\n",
    "#     validation_split=0.2,\n",
    "#     batch_size=32,\n",
    "#     epochs=10,\n",
    "#     callbacks=[early_stopping]\n",
    "# )"
   ]
  },
  {
   "cell_type": "code",
   "execution_count": 166,
   "id": "70a574e4",
   "metadata": {},
   "outputs": [
    {
     "data": {
      "image/png": "[encoded data removed]",
      "text/plain": [
       "<Figure size 432x288 with 1 Axes>"
      ]
     },
     "metadata": {
      "needs_background": "light"
     },
     "output_type": "display_data"
    }
   ],
   "source": [
    "plt.plot(history.history['accuracy'], label='accuracy')\n",
    "plt.plot(history.history['val_accuracy'], label = 'val_accuracy')\n",
    "plt.xlabel('Epoch')\n",
    "plt.ylabel('Accuracy')\n",
    "plt.ylim([0.5, 1])\n",
    "plt.legend(loc='lower right')\n",
    "plt.text(early_stopping.stopped_epoch, history.history['val_accuracy'][-1], str(round(history.history['val_accuracy'][-1],2)))\n",
    "plt.show()"
   ]
  },
  {
   "cell_type": "code",
   "execution_count": 167,
   "id": "9e02d6f2",
   "metadata": {},
   "outputs": [
    {
     "data": {
      "image/png": "[encoded data removed]",
      "text/plain": [
       "<Figure size 432x288 with 1 Axes>"
      ]
     },
     "metadata": {
      "needs_background": "light"
     },
     "output_type": "display_data"
    }
   ],
   "source": [
    "# summarize history for loss\n",
    "plt.plot(history.history['loss'])\n",
    "plt.plot(history.history['val_loss'])\n",
    "plt.title('model loss')\n",
    "plt.ylabel('loss')\n",
    "plt.xlabel('epoch')\n",
    "plt.legend(['train', 'test'], loc='upper left')\n",
    "plt.text(early_stopping.stopped_epoch, history.history['val_loss'][-1], str(round(history.history['val_loss'][-1],2)))\n",
    "plt.show()"
   ]
  },
  {
   "cell_type": "code",
   "execution_count": 238,
   "id": "b89bf228",
   "metadata": {},
   "outputs": [
    {
     "name": "stdout",
     "output_type": "stream",
     "text": [
      "Epoch 1/15\n",
      "735/735 [==============================] - 190s 257ms/step - loss: 1.2858 - accuracy: 0.5897 - val_loss: 0.7898 - val_accuracy: 0.7622\n",
      "Epoch 2/15\n",
      "735/735 [==============================] - 193s 263ms/step - loss: 0.6353 - accuracy: 0.8139 - val_loss: 0.5558 - val_accuracy: 0.8374\n",
      "Epoch 3/15\n",
      "735/735 [==============================] - 189s 257ms/step - loss: 0.4845 - accuracy: 0.8585 - val_loss: 0.4567 - val_accuracy: 0.8646\n",
      "Epoch 4/15\n",
      "735/735 [==============================] - 184s 250ms/step - loss: 0.4118 - accuracy: 0.8812 - val_loss: 0.3960 - val_accuracy: 0.8845\n",
      "Epoch 5/15\n",
      "735/735 [==============================] - 183s 250ms/step - loss: 0.3638 - accuracy: 0.8947 - val_loss: 0.3559 - val_accuracy: 0.8954\n",
      "Epoch 6/15\n",
      "735/735 [==============================] - 186s 253ms/step - loss: 0.3296 - accuracy: 0.9031 - val_loss: 0.3280 - val_accuracy: 0.9049\n",
      "Epoch 7/15\n",
      "735/735 [==============================] - 183s 249ms/step - loss: 0.3034 - accuracy: 0.9109 - val_loss: 0.3061 - val_accuracy: 0.9090\n",
      "Epoch 8/15\n",
      "735/735 [==============================] - 183s 249ms/step - loss: 0.2835 - accuracy: 0.9166 - val_loss: 0.2839 - val_accuracy: 0.9168\n",
      "Epoch 9/15\n",
      "735/735 [==============================] - 183s 249ms/step - loss: 0.2666 - accuracy: 0.9216 - val_loss: 0.2761 - val_accuracy: 0.9189\n",
      "Epoch 10/15\n",
      "735/735 [==============================] - 30511s 42s/step - loss: 0.2531 - accuracy: 0.9253 - val_loss: 0.2650 - val_accuracy: 0.9219\n",
      "Epoch 11/15\n",
      "735/735 [==============================] - 227s 308ms/step - loss: 0.2411 - accuracy: 0.9282 - val_loss: 0.2499 - val_accuracy: 0.9276\n",
      "Epoch 12/15\n",
      "735/735 [==============================] - 230s 313ms/step - loss: 0.2318 - accuracy: 0.9306 - val_loss: 0.2436 - val_accuracy: 0.9310\n",
      "Epoch 13/15\n",
      "735/735 [==============================] - 237s 323ms/step - loss: 0.2241 - accuracy: 0.9338 - val_loss: 0.2360 - val_accuracy: 0.9318\n",
      "Epoch 14/15\n",
      "735/735 [==============================] - 223s 304ms/step - loss: 0.2155 - accuracy: 0.9355 - val_loss: 0.2257 - val_accuracy: 0.9352\n",
      "Epoch 15/15\n",
      "735/735 [==============================] - 222s 302ms/step - loss: 0.2092 - accuracy: 0.9374 - val_loss: 0.2207 - val_accuracy: 0.9386\n"
     ]
    }
   ],
   "source": [
    "#Entrainer le model\n",
    "history = model.fit(\n",
    "    X_train, y_train,\n",
    "    validation_split=0.2,\n",
    "    batch_size=32,\n",
    "    epochs=15,\n",
    "    callbacks=[early_stopping]\n",
    ")"
   ]
  },
  {
   "cell_type": "code",
   "execution_count": 240,
   "id": "4dbf2684",
   "metadata": {},
   "outputs": [
    {
     "data": {
      "image/png": "[encoded data removed]",
      "text/plain": [
       "<Figure size 432x288 with 1 Axes>"
      ]
     },
     "metadata": {
      "needs_background": "light"
     },
     "output_type": "display_data"
    }
   ],
   "source": [
    "plt.plot(history.history['accuracy'], label='accuracy')\n",
    "plt.plot(history.history['val_accuracy'], label = 'val_accuracy')\n",
    "plt.xlabel('Epoch')\n",
    "plt.ylabel('Accuracy')\n",
    "plt.ylim([0.5, 1])\n",
    "plt.legend(loc='lower right')\n",
    "plt.text(early_stopping.stopped_epoch, history.history['val_accuracy'][-1], str(round(history.history['val_accuracy'][-1],2)))\n",
    "plt.show()"
   ]
  },
  {
   "cell_type": "code",
   "execution_count": 241,
   "id": "fae6c1ac",
   "metadata": {},
   "outputs": [
    {
     "data": {
      "image/png": "[encoded data removed]",
      "text/plain": [
       "<Figure size 432x288 with 1 Axes>"
      ]
     },
     "metadata": {
      "needs_background": "light"
     },
     "output_type": "display_data"
    }
   ],
   "source": [
    "# summarize history for loss\n",
    "plt.plot(history.history['loss'])\n",
    "plt.plot(history.history['val_loss'])\n",
    "plt.title('model loss')\n",
    "plt.ylabel('loss')\n",
    "plt.xlabel('epoch')\n",
    "plt.legend(['train', 'test'], loc='upper left')\n",
    "plt.text(early_stopping.stopped_epoch, history.history['val_loss'][-1], str(round(history.history['val_loss'][-1],2)))\n",
    "plt.show()"
   ]
  },
  {
   "cell_type": "code",
   "execution_count": null,
   "id": "938aecba",
   "metadata": {},
   "outputs": [],
   "source": [
    "# y_pred = model.predict(X_test)\n",
    "\n",
    "# predictions = model.predict(X_test)\n",
    "# pred = np.argmax(predictions, axis=1)\n",
    "# print(pred)\n",
    "# print(y_test)\n",
    "\n",
    "# X_tes = [np.reshape(a/255, (28, 28)) for a in X_test.values]\n",
    "\n",
    "# plt.figure(figsize=(5,1))\n",
    "# for i in range(10):\n",
    "#     plt.subplot(1,10,i+1)\n",
    "#     plt.xticks([])\n",
    "#     plt.yticks([])\n",
    "#     plt.grid(False)\n",
    "#     plt.imshow(X_tes[i], cmap='gray')\n",
    "#     plt.xlabel(str(f\"{pred[i]}\"))\n",
    "# plt.show();"
   ]
  },
  {
   "cell_type": "code",
   "execution_count": 239,
   "id": "f5bb5e80",
   "metadata": {},
   "outputs": [],
   "source": [
    "# load model \n",
    "import pickle\n",
    "import streamlit as st\n",
    "model.save(\"modelE.h5\")"
   ]
  },
  {
   "cell_type": "code",
   "execution_count": null,
   "id": "6cc04235",
   "metadata": {},
   "outputs": [],
   "source": []
  }
 ],
 "metadata": {
  "kernelspec": {
   "display_name": "Python 3",
   "language": "python",
   "name": "python3"
  },
  "language_info": {
   "codemirror_mode": {
    "name": "ipython",
    "version": 3
   },
   "file_extension": ".py",
   "mimetype": "text/x-python",
   "name": "python",
   "nbconvert_exporter": "python",
   "pygments_lexer": "ipython3",
   "version": "3.8.8"
  }
 },
 "nbformat": 4,
 "nbformat_minor": 5
}
